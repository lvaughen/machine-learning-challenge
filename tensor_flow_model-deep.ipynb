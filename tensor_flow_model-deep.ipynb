{
 "cells": [
  {
   "cell_type": "code",
   "execution_count": 73,
   "id": "handy-rebound",
   "metadata": {},
   "outputs": [],
   "source": [
    "# load necessary python libraries\n",
    "import matplotlib.pyplot as plt\n",
    "import pandas as pd\n",
    "import numpy as np\n",
    "import os"
   ]
  },
  {
   "cell_type": "code",
   "execution_count": 74,
   "id": "macro-blocking",
   "metadata": {},
   "outputs": [
    {
     "data": {
      "text/plain": [
       "(8744, 6)"
      ]
     },
     "execution_count": 74,
     "metadata": {},
     "output_type": "execute_result"
    }
   ],
   "source": [
    "# read the cvs file into Pandas for the Kepler Object data\n",
    "# this data has previously been MinMax fitted\n",
    "# using reduced parameter set from DCF model\n",
    "\n",
    "x_data = pd.read_csv('x_dcf_filt.csv')\n",
    "x_data.head()\n",
    "x_data.shape\n"
   ]
  },
  {
   "cell_type": "code",
   "execution_count": 75,
   "id": "noticed-tsunami",
   "metadata": {},
   "outputs": [
    {
     "data": {
      "text/html": [
       "<div>\n",
       "<style scoped>\n",
       "    .dataframe tbody tr th:only-of-type {\n",
       "        vertical-align: middle;\n",
       "    }\n",
       "\n",
       "    .dataframe tbody tr th {\n",
       "        vertical-align: top;\n",
       "    }\n",
       "\n",
       "    .dataframe thead th {\n",
       "        text-align: right;\n",
       "    }\n",
       "</style>\n",
       "<table border=\"1\" class=\"dataframe\">\n",
       "  <thead>\n",
       "    <tr style=\"text-align: right;\">\n",
       "      <th></th>\n",
       "      <th>koi_disposition</th>\n",
       "    </tr>\n",
       "  </thead>\n",
       "  <tbody>\n",
       "    <tr>\n",
       "      <th>0</th>\n",
       "      <td>CONFIRMED</td>\n",
       "    </tr>\n",
       "    <tr>\n",
       "      <th>1</th>\n",
       "      <td>CONFIRMED</td>\n",
       "    </tr>\n",
       "    <tr>\n",
       "      <th>2</th>\n",
       "      <td>FALSE POSITIVE</td>\n",
       "    </tr>\n",
       "    <tr>\n",
       "      <th>3</th>\n",
       "      <td>FALSE POSITIVE</td>\n",
       "    </tr>\n",
       "    <tr>\n",
       "      <th>4</th>\n",
       "      <td>CONFIRMED</td>\n",
       "    </tr>\n",
       "  </tbody>\n",
       "</table>\n",
       "</div>"
      ],
      "text/plain": [
       "  koi_disposition\n",
       "0       CONFIRMED\n",
       "1       CONFIRMED\n",
       "2  FALSE POSITIVE\n",
       "3  FALSE POSITIVE\n",
       "4       CONFIRMED"
      ]
     },
     "execution_count": 75,
     "metadata": {},
     "output_type": "execute_result"
    }
   ],
   "source": [
    "# read y values into Pandas for Kepler classification data\n",
    "\n",
    "y_data = pd.read_csv('y_value.csv')\n",
    "y_data.head()"
   ]
  },
  {
   "cell_type": "code",
   "execution_count": 76,
   "id": "suspected-suspect",
   "metadata": {},
   "outputs": [],
   "source": [
    "# y_data.values.reshape(-1,1)\n",
    "# result = y_data.Series['koi_disposition'].ravel()\n",
    "\n",
    "y_data = y_data['koi_disposition']"
   ]
  },
  {
   "cell_type": "code",
   "execution_count": 77,
   "id": "positive-feeling",
   "metadata": {},
   "outputs": [
    {
     "data": {
      "text/plain": [
       "(8744,)"
      ]
     },
     "execution_count": 77,
     "metadata": {},
     "output_type": "execute_result"
    }
   ],
   "source": [
    "y_data.shape"
   ]
  },
  {
   "cell_type": "code",
   "execution_count": 78,
   "id": "needed-costa",
   "metadata": {},
   "outputs": [
    {
     "data": {
      "text/plain": [
       "array([1, 1, 2, ..., 0, 2, 2])"
      ]
     },
     "execution_count": 78,
     "metadata": {},
     "output_type": "execute_result"
    }
   ],
   "source": [
    "# encode Y from categorical to numerical for Tensor Flow to work\n",
    "# One-hot encoding reference 20.3 Activity 1\n",
    "from sklearn.preprocessing import LabelEncoder\n",
    "\n",
    "# Step 1: Label-encode data set\n",
    "label_encoder = LabelEncoder()\n",
    "label_encoder.fit(y_data)\n",
    "encoded_y = label_encoder.transform(y_data)\n",
    "encoded_y"
   ]
  },
  {
   "cell_type": "code",
   "execution_count": 79,
   "id": "answering-ozone",
   "metadata": {},
   "outputs": [
    {
     "data": {
      "text/plain": [
       "(8744,)"
      ]
     },
     "execution_count": 79,
     "metadata": {},
     "output_type": "execute_result"
    }
   ],
   "source": [
    "encoded_y.shape"
   ]
  },
  {
   "cell_type": "code",
   "execution_count": 80,
   "id": "piano-gregory",
   "metadata": {},
   "outputs": [],
   "source": [
    "# Use train_test_split to create training and testing data"
   ]
  },
  {
   "cell_type": "code",
   "execution_count": 81,
   "id": "rural-anthropology",
   "metadata": {},
   "outputs": [],
   "source": [
    "from sklearn.model_selection import train_test_split\n",
    "\n",
    "X_train, X_test, y_train, y_test = train_test_split(x_data, encoded_y, random_state=1)"
   ]
  },
  {
   "cell_type": "code",
   "execution_count": 82,
   "id": "quality-narrow",
   "metadata": {},
   "outputs": [],
   "source": [
    "# data was already scaled using MinMax"
   ]
  },
  {
   "cell_type": "code",
   "execution_count": 83,
   "id": "educational-copying",
   "metadata": {},
   "outputs": [],
   "source": [
    "# create our Model\n"
   ]
  },
  {
   "cell_type": "code",
   "execution_count": 84,
   "id": "chief-helena",
   "metadata": {},
   "outputs": [],
   "source": [
    "from tensorflow.keras.models import Sequential\n",
    "\n",
    "model = Sequential()"
   ]
  },
  {
   "cell_type": "code",
   "execution_count": 85,
   "id": "considerable-fever",
   "metadata": {},
   "outputs": [],
   "source": [
    "from tensorflow.keras.layers import Dense\n",
    "number_inputs = 6\n",
    "number_hidden_nodes = 4\n",
    "model.add(Dense(units=number_hidden_nodes,\n",
    "                activation='relu', input_dim=number_inputs))"
   ]
  },
  {
   "cell_type": "code",
   "execution_count": 86,
   "id": "meaningful-worry",
   "metadata": {},
   "outputs": [],
   "source": [
    "# add another hidden layer of 6 notes per class activity#3 - deep learning\n",
    "model.add(Dense(units=6, activation='relu'))"
   ]
  },
  {
   "cell_type": "code",
   "execution_count": 87,
   "id": "residential-fireplace",
   "metadata": {},
   "outputs": [],
   "source": [
    "number_classes = 3\n",
    "model.add(Dense(units=number_classes, activation='softmax'))"
   ]
  },
  {
   "cell_type": "code",
   "execution_count": 88,
   "id": "russian-romantic",
   "metadata": {},
   "outputs": [
    {
     "name": "stdout",
     "output_type": "stream",
     "text": [
      "Model: \"sequential_3\"\n",
      "_________________________________________________________________\n",
      "Layer (type)                 Output Shape              Param #   \n",
      "=================================================================\n",
      "dense_18 (Dense)             (None, 4)                 28        \n",
      "_________________________________________________________________\n",
      "dense_19 (Dense)             (None, 6)                 30        \n",
      "_________________________________________________________________\n",
      "dense_20 (Dense)             (None, 3)                 21        \n",
      "=================================================================\n",
      "Total params: 79\n",
      "Trainable params: 79\n",
      "Non-trainable params: 0\n",
      "_________________________________________________________________\n"
     ]
    }
   ],
   "source": [
    "model.summary()"
   ]
  },
  {
   "cell_type": "code",
   "execution_count": 89,
   "id": "pending-cleaners",
   "metadata": {},
   "outputs": [],
   "source": [
    "# Use categorical crossentropy for categorical data and mean squared error for regression\n",
    "# Hint: your output layer in this example is using software for logistic regression (categorical)\n",
    "# If your output layer activation was `linear` then you may want to use `mse` for loss\n",
    "model.compile(optimizer='adam',\n",
    "              loss='sparse_categorical_crossentropy',\n",
    "              metrics=['accuracy'])"
   ]
  },
  {
   "cell_type": "code",
   "execution_count": 90,
   "id": "weekly-smooth",
   "metadata": {},
   "outputs": [
    {
     "name": "stdout",
     "output_type": "stream",
     "text": [
      "Epoch 1/100\n",
      "6558/6558 - 0s - loss: 14.7939 - acc: 0.4233\n",
      "Epoch 2/100\n",
      "6558/6558 - 0s - loss: 2.7473 - acc: 0.4995\n",
      "Epoch 3/100\n",
      "6558/6558 - 0s - loss: 1.2202 - acc: 0.4248\n",
      "Epoch 4/100\n",
      "6558/6558 - 0s - loss: 0.9900 - acc: 0.4872\n",
      "Epoch 5/100\n",
      "6558/6558 - 0s - loss: 0.9559 - acc: 0.6023\n",
      "Epoch 6/100\n",
      "6558/6558 - 0s - loss: 0.9306 - acc: 0.6215\n",
      "Epoch 7/100\n",
      "6558/6558 - 0s - loss: 0.9110 - acc: 0.6436\n",
      "Epoch 8/100\n",
      "6558/6558 - 0s - loss: 0.9049 - acc: 0.6952\n",
      "Epoch 9/100\n",
      "6558/6558 - 0s - loss: 0.8878 - acc: 0.7065\n",
      "Epoch 10/100\n",
      "6558/6558 - 0s - loss: 0.9063 - acc: 0.6966\n",
      "Epoch 11/100\n",
      "6558/6558 - 0s - loss: 0.8426 - acc: 0.7159\n",
      "Epoch 12/100\n",
      "6558/6558 - 0s - loss: 0.8309 - acc: 0.7155\n",
      "Epoch 13/100\n",
      "6558/6558 - 0s - loss: 0.8270 - acc: 0.7214\n",
      "Epoch 14/100\n",
      "6558/6558 - 0s - loss: 0.7901 - acc: 0.7237\n",
      "Epoch 15/100\n",
      "6558/6558 - 0s - loss: 0.8180 - acc: 0.7348\n",
      "Epoch 16/100\n",
      "6558/6558 - 0s - loss: 0.7621 - acc: 0.7342\n",
      "Epoch 17/100\n",
      "6558/6558 - 0s - loss: 0.7666 - acc: 0.7286\n",
      "Epoch 18/100\n",
      "6558/6558 - 0s - loss: 0.7442 - acc: 0.7385\n",
      "Epoch 19/100\n",
      "6558/6558 - 0s - loss: 0.7011 - acc: 0.7345\n",
      "Epoch 20/100\n",
      "6558/6558 - 0s - loss: 0.6839 - acc: 0.7373\n",
      "Epoch 21/100\n",
      "6558/6558 - 0s - loss: 0.7203 - acc: 0.7548\n",
      "Epoch 22/100\n",
      "6558/6558 - 0s - loss: 0.7009 - acc: 0.7482\n",
      "Epoch 23/100\n",
      "6558/6558 - 0s - loss: 0.6496 - acc: 0.7489\n",
      "Epoch 24/100\n",
      "6558/6558 - 0s - loss: 0.6203 - acc: 0.7574\n",
      "Epoch 25/100\n",
      "6558/6558 - 0s - loss: 0.5951 - acc: 0.7420\n",
      "Epoch 26/100\n",
      "6558/6558 - 0s - loss: 0.6294 - acc: 0.7667\n",
      "Epoch 27/100\n",
      "6558/6558 - 0s - loss: 0.5943 - acc: 0.7713\n",
      "Epoch 28/100\n",
      "6558/6558 - 0s - loss: 0.5581 - acc: 0.7511\n",
      "Epoch 29/100\n",
      "6558/6558 - 0s - loss: 0.5567 - acc: 0.7632\n",
      "Epoch 30/100\n",
      "6558/6558 - 0s - loss: 0.5656 - acc: 0.7804\n",
      "Epoch 31/100\n",
      "6558/6558 - 0s - loss: 0.5261 - acc: 0.7653\n",
      "Epoch 32/100\n",
      "6558/6558 - 0s - loss: 0.5221 - acc: 0.7693\n",
      "Epoch 33/100\n",
      "6558/6558 - 0s - loss: 0.5904 - acc: 0.7818\n",
      "Epoch 34/100\n",
      "6558/6558 - 0s - loss: 0.5376 - acc: 0.7644\n",
      "Epoch 35/100\n",
      "6558/6558 - 0s - loss: 0.5419 - acc: 0.7662\n",
      "Epoch 36/100\n",
      "6558/6558 - 0s - loss: 0.5343 - acc: 0.7967\n",
      "Epoch 37/100\n",
      "6558/6558 - 0s - loss: 0.5164 - acc: 0.7932\n",
      "Epoch 38/100\n",
      "6558/6558 - 0s - loss: 0.4939 - acc: 0.7821\n",
      "Epoch 39/100\n",
      "6558/6558 - 0s - loss: 0.4827 - acc: 0.7827\n",
      "Epoch 40/100\n",
      "6558/6558 - 0s - loss: 0.4686 - acc: 0.7809\n",
      "Epoch 41/100\n",
      "6558/6558 - 0s - loss: 0.4836 - acc: 0.7952\n",
      "Epoch 42/100\n",
      "6558/6558 - 0s - loss: 0.4846 - acc: 0.7789\n",
      "Epoch 43/100\n",
      "6558/6558 - 0s - loss: 0.4673 - acc: 0.7891\n",
      "Epoch 44/100\n",
      "6558/6558 - 0s - loss: 0.4849 - acc: 0.7800\n",
      "Epoch 45/100\n",
      "6558/6558 - 0s - loss: 0.4930 - acc: 0.8082\n",
      "Epoch 46/100\n",
      "6558/6558 - 0s - loss: 0.5167 - acc: 0.7604\n",
      "Epoch 47/100\n",
      "6558/6558 - 0s - loss: 0.4910 - acc: 0.7926\n",
      "Epoch 48/100\n",
      "6558/6558 - 0s - loss: 0.4616 - acc: 0.7775\n",
      "Epoch 49/100\n",
      "6558/6558 - 0s - loss: 0.4596 - acc: 0.8051\n",
      "Epoch 50/100\n",
      "6558/6558 - 0s - loss: 0.4406 - acc: 0.7600\n",
      "Epoch 51/100\n",
      "6558/6558 - 0s - loss: 0.4769 - acc: 0.8065\n",
      "Epoch 52/100\n",
      "6558/6558 - 0s - loss: 0.5249 - acc: 0.7729\n",
      "Epoch 53/100\n",
      "6558/6558 - 0s - loss: 0.5068 - acc: 0.7729\n",
      "Epoch 54/100\n",
      "6558/6558 - 0s - loss: 0.4789 - acc: 0.7661\n",
      "Epoch 55/100\n",
      "6558/6558 - 0s - loss: 0.4361 - acc: 0.8071\n",
      "Epoch 56/100\n",
      "6558/6558 - 0s - loss: 0.4599 - acc: 0.7853\n",
      "Epoch 57/100\n",
      "6558/6558 - 0s - loss: 0.4683 - acc: 0.7981\n",
      "Epoch 58/100\n",
      "6558/6558 - 0s - loss: 0.4651 - acc: 0.7851\n",
      "Epoch 59/100\n",
      "6558/6558 - 0s - loss: 0.4457 - acc: 0.7955\n",
      "Epoch 60/100\n",
      "6558/6558 - 0s - loss: 0.4461 - acc: 0.7912\n",
      "Epoch 61/100\n",
      "6558/6558 - 0s - loss: 0.4676 - acc: 0.7696\n",
      "Epoch 62/100\n",
      "6558/6558 - 0s - loss: 0.4643 - acc: 0.7873\n",
      "Epoch 63/100\n",
      "6558/6558 - 0s - loss: 0.4402 - acc: 0.7798\n",
      "Epoch 64/100\n",
      "6558/6558 - 0s - loss: 0.5108 - acc: 0.7934\n",
      "Epoch 65/100\n",
      "6558/6558 - 0s - loss: 0.4247 - acc: 0.7797\n",
      "Epoch 66/100\n",
      "6558/6558 - 0s - loss: 0.4503 - acc: 0.7778\n",
      "Epoch 67/100\n",
      "6558/6558 - 0s - loss: 0.4563 - acc: 0.7906\n",
      "Epoch 68/100\n",
      "6558/6558 - 0s - loss: 0.5300 - acc: 0.7781\n",
      "Epoch 69/100\n",
      "6558/6558 - 0s - loss: 0.4452 - acc: 0.7705\n",
      "Epoch 70/100\n",
      "6558/6558 - 0s - loss: 0.4473 - acc: 0.7789\n",
      "Epoch 71/100\n",
      "6558/6558 - 0s - loss: 0.4791 - acc: 0.7890\n",
      "Epoch 72/100\n",
      "6558/6558 - 0s - loss: 0.4457 - acc: 0.7598\n",
      "Epoch 73/100\n",
      "6558/6558 - 0s - loss: 0.4607 - acc: 0.7836\n",
      "Epoch 74/100\n",
      "6558/6558 - 0s - loss: 0.4554 - acc: 0.7848\n",
      "Epoch 75/100\n",
      "6558/6558 - 0s - loss: 0.4212 - acc: 0.7800\n",
      "Epoch 76/100\n",
      "6558/6558 - 0s - loss: 0.4312 - acc: 0.7967\n",
      "Epoch 77/100\n",
      "6558/6558 - 0s - loss: 0.4496 - acc: 0.7926\n",
      "Epoch 78/100\n",
      "6558/6558 - 0s - loss: 0.4810 - acc: 0.7693\n",
      "Epoch 79/100\n",
      "6558/6558 - 0s - loss: 0.4546 - acc: 0.7690\n",
      "Epoch 80/100\n",
      "6558/6558 - 0s - loss: 0.5205 - acc: 0.7777\n",
      "Epoch 81/100\n",
      "6558/6558 - 0s - loss: 0.4479 - acc: 0.8131\n",
      "Epoch 82/100\n",
      "6558/6558 - 0s - loss: 0.4293 - acc: 0.7441\n",
      "Epoch 83/100\n",
      "6558/6558 - 0s - loss: 0.4568 - acc: 0.7821\n",
      "Epoch 84/100\n",
      "6558/6558 - 0s - loss: 0.4575 - acc: 0.8091\n",
      "Epoch 85/100\n",
      "6558/6558 - 0s - loss: 0.4550 - acc: 0.7752\n",
      "Epoch 86/100\n",
      "6558/6558 - 0s - loss: 0.4417 - acc: 0.7644\n",
      "Epoch 87/100\n",
      "6558/6558 - 0s - loss: 0.4388 - acc: 0.7943\n",
      "Epoch 88/100\n",
      "6558/6558 - 0s - loss: 0.4375 - acc: 0.7763\n",
      "Epoch 89/100\n",
      "6558/6558 - 0s - loss: 0.4420 - acc: 0.8001\n",
      "Epoch 90/100\n",
      "6558/6558 - 0s - loss: 0.4317 - acc: 0.7786\n",
      "Epoch 91/100\n",
      "6558/6558 - 0s - loss: 0.4205 - acc: 0.7583\n",
      "Epoch 92/100\n",
      "6558/6558 - 0s - loss: 0.4385 - acc: 0.7890\n",
      "Epoch 93/100\n",
      "6558/6558 - 0s - loss: 0.4766 - acc: 0.7649\n",
      "Epoch 94/100\n",
      "6558/6558 - 0s - loss: 0.4885 - acc: 0.7652\n",
      "Epoch 95/100\n",
      "6558/6558 - 0s - loss: 0.4559 - acc: 0.7876\n",
      "Epoch 96/100\n",
      "6558/6558 - 0s - loss: 0.4667 - acc: 0.7620\n",
      "Epoch 97/100\n",
      "6558/6558 - 0s - loss: 0.4563 - acc: 0.7783\n",
      "Epoch 98/100\n",
      "6558/6558 - 0s - loss: 0.4419 - acc: 0.7592\n",
      "Epoch 99/100\n",
      "6558/6558 - 0s - loss: 0.4376 - acc: 0.7577\n",
      "Epoch 100/100\n",
      "6558/6558 - 0s - loss: 0.4436 - acc: 0.7829\n"
     ]
    },
    {
     "data": {
      "text/plain": [
       "<tensorflow.python.keras.callbacks.History at 0x2053f394cf8>"
      ]
     },
     "execution_count": 90,
     "metadata": {},
     "output_type": "execute_result"
    }
   ],
   "source": [
    "# Fit (train) the model\n",
    "model.fit(\n",
    "    X_train,\n",
    "    y_train,\n",
    "    epochs=100,\n",
    "    shuffle=True,\n",
    "    verbose=2\n",
    ")"
   ]
  },
  {
   "cell_type": "code",
   "execution_count": 91,
   "id": "august-basics",
   "metadata": {},
   "outputs": [
    {
     "name": "stdout",
     "output_type": "stream",
     "text": [
      "2186/2186 - 0s - loss: 0.4269 - acc: 0.8719\n",
      "Loss: 0.42688337243813934, Accuracy: 0.8719121813774109\n"
     ]
    }
   ],
   "source": [
    "# Evaluate the model using the testing data\n",
    "model_loss, model_accuracy = model.evaluate(\n",
    "    X_test, y_test, verbose=2)\n",
    "print(f\"Loss: {model_loss}, Accuracy: {model_accuracy}\")"
   ]
  },
  {
   "cell_type": "code",
   "execution_count": 92,
   "id": "federal-announcement",
   "metadata": {},
   "outputs": [],
   "source": [
    "# adding another layer of 6 nodes took accuracy from the simple: 0.5 to 0.87"
   ]
  },
  {
   "cell_type": "code",
   "execution_count": null,
   "id": "perfect-david",
   "metadata": {},
   "outputs": [],
   "source": []
  }
 ],
 "metadata": {
  "kernelspec": {
   "display_name": "Python 3",
   "language": "python",
   "name": "python3"
  },
  "language_info": {
   "codemirror_mode": {
    "name": "ipython",
    "version": 3
   },
   "file_extension": ".py",
   "mimetype": "text/x-python",
   "name": "python",
   "nbconvert_exporter": "python",
   "pygments_lexer": "ipython3",
   "version": "3.6.10"
  }
 },
 "nbformat": 4,
 "nbformat_minor": 5
}
