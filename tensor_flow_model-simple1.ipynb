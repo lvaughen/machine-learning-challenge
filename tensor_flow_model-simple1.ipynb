{
 "cells": [
  {
   "cell_type": "code",
   "execution_count": 1,
   "id": "weighted-server",
   "metadata": {},
   "outputs": [],
   "source": [
    "# load necessary python libraries\n",
    "import matplotlib.pyplot as plt\n",
    "import pandas as pd\n",
    "import numpy as np\n",
    "import os"
   ]
  },
  {
   "cell_type": "code",
   "execution_count": 42,
   "id": "competent-banks",
   "metadata": {},
   "outputs": [
    {
     "data": {
      "text/plain": [
       "(8744, 6)"
      ]
     },
     "execution_count": 42,
     "metadata": {},
     "output_type": "execute_result"
    }
   ],
   "source": [
    "# read the cvs file into Pandas for the Kepler Object data\n",
    "# this data has previously been MinMax fitted\n",
    "# using reduced parameter set from DCF model\n",
    "\n",
    "x_data = pd.read_csv('x_dcf_filt.csv')\n",
    "x_data.head()\n",
    "x_data.shape\n"
   ]
  },
  {
   "cell_type": "code",
   "execution_count": 43,
   "id": "juvenile-dance",
   "metadata": {},
   "outputs": [
    {
     "data": {
      "text/html": [
       "<div>\n",
       "<style scoped>\n",
       "    .dataframe tbody tr th:only-of-type {\n",
       "        vertical-align: middle;\n",
       "    }\n",
       "\n",
       "    .dataframe tbody tr th {\n",
       "        vertical-align: top;\n",
       "    }\n",
       "\n",
       "    .dataframe thead th {\n",
       "        text-align: right;\n",
       "    }\n",
       "</style>\n",
       "<table border=\"1\" class=\"dataframe\">\n",
       "  <thead>\n",
       "    <tr style=\"text-align: right;\">\n",
       "      <th></th>\n",
       "      <th>koi_disposition</th>\n",
       "    </tr>\n",
       "  </thead>\n",
       "  <tbody>\n",
       "    <tr>\n",
       "      <th>0</th>\n",
       "      <td>CONFIRMED</td>\n",
       "    </tr>\n",
       "    <tr>\n",
       "      <th>1</th>\n",
       "      <td>CONFIRMED</td>\n",
       "    </tr>\n",
       "    <tr>\n",
       "      <th>2</th>\n",
       "      <td>FALSE POSITIVE</td>\n",
       "    </tr>\n",
       "    <tr>\n",
       "      <th>3</th>\n",
       "      <td>FALSE POSITIVE</td>\n",
       "    </tr>\n",
       "    <tr>\n",
       "      <th>4</th>\n",
       "      <td>CONFIRMED</td>\n",
       "    </tr>\n",
       "  </tbody>\n",
       "</table>\n",
       "</div>"
      ],
      "text/plain": [
       "  koi_disposition\n",
       "0       CONFIRMED\n",
       "1       CONFIRMED\n",
       "2  FALSE POSITIVE\n",
       "3  FALSE POSITIVE\n",
       "4       CONFIRMED"
      ]
     },
     "execution_count": 43,
     "metadata": {},
     "output_type": "execute_result"
    }
   ],
   "source": [
    "# read y values into Pandas for Kepler classification data\n",
    "\n",
    "y_data = pd.read_csv('y_value.csv')\n",
    "y_data.head()"
   ]
  },
  {
   "cell_type": "code",
   "execution_count": 44,
   "id": "antique-taxation",
   "metadata": {},
   "outputs": [],
   "source": [
    "# y_data.values.reshape(-1,1)\n",
    "# result = y_data.Series['koi_disposition'].ravel()\n",
    "\n",
    "y_data = y_data['koi_disposition']"
   ]
  },
  {
   "cell_type": "code",
   "execution_count": 45,
   "id": "blocked-tsunami",
   "metadata": {},
   "outputs": [
    {
     "data": {
      "text/plain": [
       "(8744,)"
      ]
     },
     "execution_count": 45,
     "metadata": {},
     "output_type": "execute_result"
    }
   ],
   "source": [
    "y_data.shape"
   ]
  },
  {
   "cell_type": "code",
   "execution_count": 46,
   "id": "postal-attitude",
   "metadata": {},
   "outputs": [
    {
     "data": {
      "text/plain": [
       "array([1, 1, 2, ..., 0, 2, 2])"
      ]
     },
     "execution_count": 46,
     "metadata": {},
     "output_type": "execute_result"
    }
   ],
   "source": [
    "# encode Y from categorical to numerical for Tensor Flow to work\n",
    "# One-hot encoding reference 20.3 Activity 1\n",
    "from sklearn.preprocessing import LabelEncoder\n",
    "\n",
    "# Step 1: Label-encode data set\n",
    "label_encoder = LabelEncoder()\n",
    "label_encoder.fit(y_data)\n",
    "encoded_y = label_encoder.transform(y_data)\n",
    "encoded_y"
   ]
  },
  {
   "cell_type": "code",
   "execution_count": 47,
   "id": "graduate-cowboy",
   "metadata": {},
   "outputs": [
    {
     "data": {
      "text/plain": [
       "(8744,)"
      ]
     },
     "execution_count": 47,
     "metadata": {},
     "output_type": "execute_result"
    }
   ],
   "source": [
    "encoded_y.shape"
   ]
  },
  {
   "cell_type": "code",
   "execution_count": 48,
   "id": "animated-indiana",
   "metadata": {},
   "outputs": [],
   "source": [
    "# Use train_test_split to create training and testing data"
   ]
  },
  {
   "cell_type": "code",
   "execution_count": 49,
   "id": "limited-elimination",
   "metadata": {},
   "outputs": [],
   "source": [
    "from sklearn.model_selection import train_test_split\n",
    "\n",
    "X_train, X_test, y_train, y_test = train_test_split(x_data, encoded_y, random_state=1)"
   ]
  },
  {
   "cell_type": "code",
   "execution_count": 50,
   "id": "vanilla-cement",
   "metadata": {},
   "outputs": [],
   "source": [
    "# data was already scaled using MinMax"
   ]
  },
  {
   "cell_type": "code",
   "execution_count": 51,
   "id": "norwegian-image",
   "metadata": {},
   "outputs": [],
   "source": [
    "# create our Model\n"
   ]
  },
  {
   "cell_type": "code",
   "execution_count": 52,
   "id": "persistent-carnival",
   "metadata": {},
   "outputs": [],
   "source": [
    "from tensorflow.keras.models import Sequential\n",
    "\n",
    "model = Sequential()"
   ]
  },
  {
   "cell_type": "code",
   "execution_count": 61,
   "id": "cooked-injury",
   "metadata": {},
   "outputs": [],
   "source": [
    "from tensorflow.keras.layers import Dense\n",
    "number_inputs = 6\n",
    "number_hidden_nodes = 4\n",
    "model.add(Dense(units=number_hidden_nodes,\n",
    "                activation='relu', input_dim=number_inputs))"
   ]
  },
  {
   "cell_type": "code",
   "execution_count": 62,
   "id": "choice-guatemala",
   "metadata": {},
   "outputs": [],
   "source": [
    "number_classes = 3\n",
    "model.add(Dense(units=number_classes, activation='softmax'))"
   ]
  },
  {
   "cell_type": "code",
   "execution_count": 63,
   "id": "naughty-twins",
   "metadata": {},
   "outputs": [
    {
     "name": "stdout",
     "output_type": "stream",
     "text": [
      "Model: \"sequential_2\"\n",
      "_________________________________________________________________\n",
      "Layer (type)                 Output Shape              Param #   \n",
      "=================================================================\n",
      "dense_12 (Dense)             (None, 1)                 7         \n",
      "_________________________________________________________________\n",
      "dense_13 (Dense)             (None, 2)                 4         \n",
      "_________________________________________________________________\n",
      "dense_14 (Dense)             (None, 3)                 9         \n",
      "_________________________________________________________________\n",
      "dense_15 (Dense)             (None, 4)                 16        \n",
      "_________________________________________________________________\n",
      "dense_16 (Dense)             (None, 3)                 15        \n",
      "=================================================================\n",
      "Total params: 20\n",
      "Trainable params: 20\n",
      "Non-trainable params: 0\n",
      "_________________________________________________________________\n"
     ]
    }
   ],
   "source": [
    "model.summary()"
   ]
  },
  {
   "cell_type": "code",
   "execution_count": 64,
   "id": "other-optimization",
   "metadata": {},
   "outputs": [],
   "source": [
    "# Use categorical crossentropy for categorical data and mean squared error for regression\n",
    "# Hint: your output layer in this example is using software for logistic regression (categorical)\n",
    "# If your output layer activation was `linear` then you may want to use `mse` for loss\n",
    "model.compile(optimizer='adam',\n",
    "              loss='sparse_categorical_crossentropy',\n",
    "              metrics=['accuracy'])"
   ]
  },
  {
   "cell_type": "code",
   "execution_count": 69,
   "id": "abstract-portal",
   "metadata": {},
   "outputs": [
    {
     "name": "stdout",
     "output_type": "stream",
     "text": [
      "Epoch 1/100\n",
      "6558/6558 - 0s - loss: 1.0419 - acc: 0.4963\n",
      "Epoch 2/100\n",
      "6558/6558 - 0s - loss: 1.0418 - acc: 0.4963\n",
      "Epoch 3/100\n",
      "6558/6558 - 0s - loss: 1.0419 - acc: 0.4963\n",
      "Epoch 4/100\n",
      "6558/6558 - 0s - loss: 1.0419 - acc: 0.4963\n",
      "Epoch 5/100\n",
      "6558/6558 - 0s - loss: 1.0419 - acc: 0.4963\n",
      "Epoch 6/100\n",
      "6558/6558 - 0s - loss: 1.0419 - acc: 0.4963\n",
      "Epoch 7/100\n",
      "6558/6558 - 0s - loss: 1.0419 - acc: 0.4963\n",
      "Epoch 8/100\n",
      "6558/6558 - 0s - loss: 1.0419 - acc: 0.4963\n",
      "Epoch 9/100\n",
      "6558/6558 - 0s - loss: 1.0419 - acc: 0.4963\n",
      "Epoch 10/100\n",
      "6558/6558 - 0s - loss: 1.0419 - acc: 0.4963\n",
      "Epoch 11/100\n",
      "6558/6558 - 0s - loss: 1.0419 - acc: 0.4963\n",
      "Epoch 12/100\n",
      "6558/6558 - 0s - loss: 1.0419 - acc: 0.4963\n",
      "Epoch 13/100\n",
      "6558/6558 - 0s - loss: 1.0419 - acc: 0.4963\n",
      "Epoch 14/100\n",
      "6558/6558 - 0s - loss: 1.0419 - acc: 0.4963\n",
      "Epoch 15/100\n",
      "6558/6558 - 0s - loss: 1.0419 - acc: 0.4963\n",
      "Epoch 16/100\n",
      "6558/6558 - 0s - loss: 1.0419 - acc: 0.4963\n",
      "Epoch 17/100\n",
      "6558/6558 - 0s - loss: 1.0418 - acc: 0.4963\n",
      "Epoch 18/100\n",
      "6558/6558 - 0s - loss: 1.0419 - acc: 0.4963\n",
      "Epoch 19/100\n",
      "6558/6558 - 0s - loss: 1.0419 - acc: 0.4963\n",
      "Epoch 20/100\n",
      "6558/6558 - 0s - loss: 1.0419 - acc: 0.4963\n",
      "Epoch 21/100\n",
      "6558/6558 - 0s - loss: 1.0419 - acc: 0.4963\n",
      "Epoch 22/100\n",
      "6558/6558 - 0s - loss: 1.0419 - acc: 0.4963\n",
      "Epoch 23/100\n",
      "6558/6558 - 0s - loss: 1.0418 - acc: 0.4963\n",
      "Epoch 24/100\n",
      "6558/6558 - 0s - loss: 1.0419 - acc: 0.4963\n",
      "Epoch 25/100\n",
      "6558/6558 - 0s - loss: 1.0419 - acc: 0.4963\n",
      "Epoch 26/100\n",
      "6558/6558 - 0s - loss: 1.0419 - acc: 0.4963\n",
      "Epoch 27/100\n",
      "6558/6558 - 0s - loss: 1.0419 - acc: 0.4963\n",
      "Epoch 28/100\n",
      "6558/6558 - 0s - loss: 1.0419 - acc: 0.4963\n",
      "Epoch 29/100\n",
      "6558/6558 - 0s - loss: 1.0419 - acc: 0.4963\n",
      "Epoch 30/100\n",
      "6558/6558 - 0s - loss: 1.0419 - acc: 0.4963\n",
      "Epoch 31/100\n",
      "6558/6558 - 0s - loss: 1.0419 - acc: 0.4963\n",
      "Epoch 32/100\n",
      "6558/6558 - 0s - loss: 1.0419 - acc: 0.4963\n",
      "Epoch 33/100\n",
      "6558/6558 - 0s - loss: 1.0419 - acc: 0.4963\n",
      "Epoch 34/100\n",
      "6558/6558 - 0s - loss: 1.0419 - acc: 0.4963\n",
      "Epoch 35/100\n",
      "6558/6558 - 0s - loss: 1.0419 - acc: 0.4963\n",
      "Epoch 36/100\n",
      "6558/6558 - 0s - loss: 1.0419 - acc: 0.4963\n",
      "Epoch 37/100\n",
      "6558/6558 - 0s - loss: 1.0419 - acc: 0.4963\n",
      "Epoch 38/100\n",
      "6558/6558 - 0s - loss: 1.0419 - acc: 0.4963\n",
      "Epoch 39/100\n",
      "6558/6558 - 0s - loss: 1.0418 - acc: 0.4963\n",
      "Epoch 40/100\n",
      "6558/6558 - 0s - loss: 1.0419 - acc: 0.4963\n",
      "Epoch 41/100\n",
      "6558/6558 - 0s - loss: 1.0419 - acc: 0.4963\n",
      "Epoch 42/100\n",
      "6558/6558 - 0s - loss: 1.0419 - acc: 0.4963\n",
      "Epoch 43/100\n",
      "6558/6558 - 0s - loss: 1.0419 - acc: 0.4963\n",
      "Epoch 44/100\n",
      "6558/6558 - 0s - loss: 1.0419 - acc: 0.4963\n",
      "Epoch 45/100\n",
      "6558/6558 - 0s - loss: 1.0419 - acc: 0.4963\n",
      "Epoch 46/100\n",
      "6558/6558 - 0s - loss: 1.0419 - acc: 0.4963\n",
      "Epoch 47/100\n",
      "6558/6558 - 0s - loss: 1.0419 - acc: 0.4963\n",
      "Epoch 48/100\n",
      "6558/6558 - 0s - loss: 1.0418 - acc: 0.4963\n",
      "Epoch 49/100\n",
      "6558/6558 - 0s - loss: 1.0419 - acc: 0.4963\n",
      "Epoch 50/100\n",
      "6558/6558 - 0s - loss: 1.0419 - acc: 0.4963\n",
      "Epoch 51/100\n",
      "6558/6558 - 0s - loss: 1.0419 - acc: 0.4963\n",
      "Epoch 52/100\n",
      "6558/6558 - 0s - loss: 1.0419 - acc: 0.4963\n",
      "Epoch 53/100\n",
      "6558/6558 - 0s - loss: 1.0419 - acc: 0.4963\n",
      "Epoch 54/100\n",
      "6558/6558 - 0s - loss: 1.0419 - acc: 0.4963\n",
      "Epoch 55/100\n",
      "6558/6558 - 0s - loss: 1.0419 - acc: 0.4963\n",
      "Epoch 56/100\n",
      "6558/6558 - 0s - loss: 1.0419 - acc: 0.4963\n",
      "Epoch 57/100\n",
      "6558/6558 - 0s - loss: 1.0419 - acc: 0.4963\n",
      "Epoch 58/100\n",
      "6558/6558 - 0s - loss: 1.0419 - acc: 0.4963\n",
      "Epoch 59/100\n",
      "6558/6558 - 0s - loss: 1.0419 - acc: 0.4963\n",
      "Epoch 60/100\n",
      "6558/6558 - 0s - loss: 1.0419 - acc: 0.4963\n",
      "Epoch 61/100\n",
      "6558/6558 - 0s - loss: 1.0418 - acc: 0.4963\n",
      "Epoch 62/100\n",
      "6558/6558 - 0s - loss: 1.0419 - acc: 0.4963\n",
      "Epoch 63/100\n",
      "6558/6558 - 0s - loss: 1.0419 - acc: 0.4963\n",
      "Epoch 64/100\n",
      "6558/6558 - 0s - loss: 1.0419 - acc: 0.4963\n",
      "Epoch 65/100\n",
      "6558/6558 - 0s - loss: 1.0419 - acc: 0.4963\n",
      "Epoch 66/100\n",
      "6558/6558 - 0s - loss: 1.0419 - acc: 0.4963\n",
      "Epoch 67/100\n",
      "6558/6558 - 0s - loss: 1.0418 - acc: 0.4963\n",
      "Epoch 68/100\n",
      "6558/6558 - 0s - loss: 1.0418 - acc: 0.4963\n",
      "Epoch 69/100\n",
      "6558/6558 - 0s - loss: 1.0418 - acc: 0.4963\n",
      "Epoch 70/100\n",
      "6558/6558 - 0s - loss: 1.0418 - acc: 0.4963\n",
      "Epoch 71/100\n",
      "6558/6558 - 0s - loss: 1.0419 - acc: 0.4963\n",
      "Epoch 72/100\n",
      "6558/6558 - 0s - loss: 1.0419 - acc: 0.4963\n",
      "Epoch 73/100\n",
      "6558/6558 - 0s - loss: 1.0419 - acc: 0.4963\n",
      "Epoch 74/100\n",
      "6558/6558 - 0s - loss: 1.0419 - acc: 0.4963\n",
      "Epoch 75/100\n",
      "6558/6558 - 0s - loss: 1.0419 - acc: 0.4963\n",
      "Epoch 76/100\n",
      "6558/6558 - 0s - loss: 1.0419 - acc: 0.4963\n",
      "Epoch 77/100\n",
      "6558/6558 - 0s - loss: 1.0418 - acc: 0.4963\n",
      "Epoch 78/100\n",
      "6558/6558 - 0s - loss: 1.0419 - acc: 0.4963\n",
      "Epoch 79/100\n",
      "6558/6558 - 0s - loss: 1.0419 - acc: 0.4963\n",
      "Epoch 80/100\n",
      "6558/6558 - 0s - loss: 1.0419 - acc: 0.4963\n",
      "Epoch 81/100\n",
      "6558/6558 - 0s - loss: 1.0419 - acc: 0.4963\n",
      "Epoch 82/100\n",
      "6558/6558 - 0s - loss: 1.0419 - acc: 0.4963\n",
      "Epoch 83/100\n",
      "6558/6558 - 0s - loss: 1.0419 - acc: 0.4963\n",
      "Epoch 84/100\n",
      "6558/6558 - 0s - loss: 1.0419 - acc: 0.4963\n",
      "Epoch 85/100\n",
      "6558/6558 - 0s - loss: 1.0419 - acc: 0.4963\n",
      "Epoch 86/100\n",
      "6558/6558 - 0s - loss: 1.0419 - acc: 0.4963\n",
      "Epoch 87/100\n",
      "6558/6558 - 0s - loss: 1.0419 - acc: 0.4963\n",
      "Epoch 88/100\n",
      "6558/6558 - 0s - loss: 1.0419 - acc: 0.4963\n",
      "Epoch 89/100\n",
      "6558/6558 - 0s - loss: 1.0419 - acc: 0.4963\n",
      "Epoch 90/100\n",
      "6558/6558 - 0s - loss: 1.0419 - acc: 0.4963\n",
      "Epoch 91/100\n",
      "6558/6558 - 0s - loss: 1.0418 - acc: 0.4963\n",
      "Epoch 92/100\n",
      "6558/6558 - 0s - loss: 1.0419 - acc: 0.4963\n",
      "Epoch 93/100\n",
      "6558/6558 - 0s - loss: 1.0419 - acc: 0.4963\n",
      "Epoch 94/100\n",
      "6558/6558 - 0s - loss: 1.0419 - acc: 0.4963\n",
      "Epoch 95/100\n",
      "6558/6558 - 0s - loss: 1.0419 - acc: 0.4963\n",
      "Epoch 96/100\n",
      "6558/6558 - 0s - loss: 1.0419 - acc: 0.4963\n",
      "Epoch 97/100\n",
      "6558/6558 - 0s - loss: 1.0418 - acc: 0.4963\n",
      "Epoch 98/100\n",
      "6558/6558 - 0s - loss: 1.0418 - acc: 0.4963\n",
      "Epoch 99/100\n",
      "6558/6558 - 0s - loss: 1.0419 - acc: 0.4963\n",
      "Epoch 100/100\n",
      "6558/6558 - 0s - loss: 1.0419 - acc: 0.4963\n"
     ]
    },
    {
     "data": {
      "text/plain": [
       "<tensorflow.python.keras.callbacks.History at 0x2053d2e1b70>"
      ]
     },
     "execution_count": 69,
     "metadata": {},
     "output_type": "execute_result"
    }
   ],
   "source": [
    "# Fit (train) the model\n",
    "model.fit(\n",
    "    X_train,\n",
    "    y_train,\n",
    "    epochs=100,\n",
    "    shuffle=True,\n",
    "    verbose=2\n",
    ")"
   ]
  },
  {
   "cell_type": "code",
   "execution_count": 70,
   "id": "collectible-vitamin",
   "metadata": {},
   "outputs": [
    {
     "name": "stdout",
     "output_type": "stream",
     "text": [
      "2186/2186 - 0s - loss: 1.0367 - acc: 0.5046\n",
      "Loss: 1.0367257941892576, Accuracy: 0.5045745372772217\n"
     ]
    }
   ],
   "source": [
    "# Evaluate the model using the testing data\n",
    "model_loss, model_accuracy = model.evaluate(\n",
    "    X_test, y_test, verbose=2)\n",
    "print(f\"Loss: {model_loss}, Accuracy: {model_accuracy}\")"
   ]
  },
  {
   "cell_type": "code",
   "execution_count": null,
   "id": "italian-makeup",
   "metadata": {},
   "outputs": [],
   "source": []
  }
 ],
 "metadata": {
  "kernelspec": {
   "display_name": "Python 3",
   "language": "python",
   "name": "python3"
  },
  "language_info": {
   "codemirror_mode": {
    "name": "ipython",
    "version": 3
   },
   "file_extension": ".py",
   "mimetype": "text/x-python",
   "name": "python",
   "nbconvert_exporter": "python",
   "pygments_lexer": "ipython3",
   "version": "3.6.10"
  }
 },
 "nbformat": 4,
 "nbformat_minor": 5
}
