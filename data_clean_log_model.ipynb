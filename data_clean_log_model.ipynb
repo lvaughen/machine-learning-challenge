{
 "cells": [
  {
   "cell_type": "code",
   "execution_count": 30,
   "metadata": {},
   "outputs": [],
   "source": [
    "# Make sure your sklearn package is up to date.\n",
    "# pip install sklearn --upgrade\n"
   ]
  },
  {
   "cell_type": "code",
   "execution_count": 31,
   "metadata": {},
   "outputs": [],
   "source": [
    "# load necessary python libraries\n",
    "\n",
    "import pandas as pd"
   ]
  },
  {
   "cell_type": "markdown",
   "metadata": {},
   "source": [
    "## Read data file into Pandas"
   ]
  },
  {
   "cell_type": "code",
   "execution_count": 32,
   "metadata": {
    "scrolled": true
   },
   "outputs": [
    {
     "data": {
      "text/html": [
       "<div>\n",
       "<style scoped>\n",
       "    .dataframe tbody tr th:only-of-type {\n",
       "        vertical-align: middle;\n",
       "    }\n",
       "\n",
       "    .dataframe tbody tr th {\n",
       "        vertical-align: top;\n",
       "    }\n",
       "\n",
       "    .dataframe thead th {\n",
       "        text-align: right;\n",
       "    }\n",
       "</style>\n",
       "<table border=\"1\" class=\"dataframe\">\n",
       "  <thead>\n",
       "    <tr style=\"text-align: right;\">\n",
       "      <th></th>\n",
       "      <th>rowid</th>\n",
       "      <th>kepid</th>\n",
       "      <th>kepoi_name</th>\n",
       "      <th>kepler_name</th>\n",
       "      <th>koi_disposition</th>\n",
       "      <th>koi_pdisposition</th>\n",
       "      <th>koi_score</th>\n",
       "      <th>koi_fpflag_nt</th>\n",
       "      <th>koi_fpflag_ss</th>\n",
       "      <th>koi_fpflag_co</th>\n",
       "      <th>...</th>\n",
       "      <th>koi_steff_err2</th>\n",
       "      <th>koi_slogg</th>\n",
       "      <th>koi_slogg_err1</th>\n",
       "      <th>koi_slogg_err2</th>\n",
       "      <th>koi_srad</th>\n",
       "      <th>koi_srad_err1</th>\n",
       "      <th>koi_srad_err2</th>\n",
       "      <th>ra</th>\n",
       "      <th>dec</th>\n",
       "      <th>koi_kepmag</th>\n",
       "    </tr>\n",
       "  </thead>\n",
       "  <tbody>\n",
       "    <tr>\n",
       "      <th>0</th>\n",
       "      <td>1</td>\n",
       "      <td>10797460</td>\n",
       "      <td>K00752.01</td>\n",
       "      <td>Kepler-227 b</td>\n",
       "      <td>CONFIRMED</td>\n",
       "      <td>CANDIDATE</td>\n",
       "      <td>1.000</td>\n",
       "      <td>0</td>\n",
       "      <td>0</td>\n",
       "      <td>0</td>\n",
       "      <td>...</td>\n",
       "      <td>-81.0</td>\n",
       "      <td>4.467</td>\n",
       "      <td>0.064</td>\n",
       "      <td>-0.096</td>\n",
       "      <td>0.927</td>\n",
       "      <td>0.105</td>\n",
       "      <td>-0.061</td>\n",
       "      <td>291.93423</td>\n",
       "      <td>48.141651</td>\n",
       "      <td>15.347</td>\n",
       "    </tr>\n",
       "    <tr>\n",
       "      <th>1</th>\n",
       "      <td>2</td>\n",
       "      <td>10797460</td>\n",
       "      <td>K00752.02</td>\n",
       "      <td>Kepler-227 c</td>\n",
       "      <td>CONFIRMED</td>\n",
       "      <td>CANDIDATE</td>\n",
       "      <td>0.969</td>\n",
       "      <td>0</td>\n",
       "      <td>0</td>\n",
       "      <td>0</td>\n",
       "      <td>...</td>\n",
       "      <td>-81.0</td>\n",
       "      <td>4.467</td>\n",
       "      <td>0.064</td>\n",
       "      <td>-0.096</td>\n",
       "      <td>0.927</td>\n",
       "      <td>0.105</td>\n",
       "      <td>-0.061</td>\n",
       "      <td>291.93423</td>\n",
       "      <td>48.141651</td>\n",
       "      <td>15.347</td>\n",
       "    </tr>\n",
       "    <tr>\n",
       "      <th>2</th>\n",
       "      <td>3</td>\n",
       "      <td>10811496</td>\n",
       "      <td>K00753.01</td>\n",
       "      <td>NaN</td>\n",
       "      <td>FALSE POSITIVE</td>\n",
       "      <td>FALSE POSITIVE</td>\n",
       "      <td>0.000</td>\n",
       "      <td>0</td>\n",
       "      <td>1</td>\n",
       "      <td>0</td>\n",
       "      <td>...</td>\n",
       "      <td>-176.0</td>\n",
       "      <td>4.544</td>\n",
       "      <td>0.044</td>\n",
       "      <td>-0.176</td>\n",
       "      <td>0.868</td>\n",
       "      <td>0.233</td>\n",
       "      <td>-0.078</td>\n",
       "      <td>297.00482</td>\n",
       "      <td>48.134129</td>\n",
       "      <td>15.436</td>\n",
       "    </tr>\n",
       "    <tr>\n",
       "      <th>3</th>\n",
       "      <td>4</td>\n",
       "      <td>10848459</td>\n",
       "      <td>K00754.01</td>\n",
       "      <td>NaN</td>\n",
       "      <td>FALSE POSITIVE</td>\n",
       "      <td>FALSE POSITIVE</td>\n",
       "      <td>0.000</td>\n",
       "      <td>0</td>\n",
       "      <td>1</td>\n",
       "      <td>0</td>\n",
       "      <td>...</td>\n",
       "      <td>-174.0</td>\n",
       "      <td>4.564</td>\n",
       "      <td>0.053</td>\n",
       "      <td>-0.168</td>\n",
       "      <td>0.791</td>\n",
       "      <td>0.201</td>\n",
       "      <td>-0.067</td>\n",
       "      <td>285.53461</td>\n",
       "      <td>48.285210</td>\n",
       "      <td>15.597</td>\n",
       "    </tr>\n",
       "    <tr>\n",
       "      <th>4</th>\n",
       "      <td>5</td>\n",
       "      <td>10854555</td>\n",
       "      <td>K00755.01</td>\n",
       "      <td>Kepler-664 b</td>\n",
       "      <td>CONFIRMED</td>\n",
       "      <td>CANDIDATE</td>\n",
       "      <td>1.000</td>\n",
       "      <td>0</td>\n",
       "      <td>0</td>\n",
       "      <td>0</td>\n",
       "      <td>...</td>\n",
       "      <td>-211.0</td>\n",
       "      <td>4.438</td>\n",
       "      <td>0.070</td>\n",
       "      <td>-0.210</td>\n",
       "      <td>1.046</td>\n",
       "      <td>0.334</td>\n",
       "      <td>-0.133</td>\n",
       "      <td>288.75488</td>\n",
       "      <td>48.226200</td>\n",
       "      <td>15.509</td>\n",
       "    </tr>\n",
       "  </tbody>\n",
       "</table>\n",
       "<p>5 rows × 50 columns</p>\n",
       "</div>"
      ],
      "text/plain": [
       "   rowid     kepid kepoi_name   kepler_name koi_disposition koi_pdisposition  \\\n",
       "0      1  10797460  K00752.01  Kepler-227 b       CONFIRMED        CANDIDATE   \n",
       "1      2  10797460  K00752.02  Kepler-227 c       CONFIRMED        CANDIDATE   \n",
       "2      3  10811496  K00753.01           NaN  FALSE POSITIVE   FALSE POSITIVE   \n",
       "3      4  10848459  K00754.01           NaN  FALSE POSITIVE   FALSE POSITIVE   \n",
       "4      5  10854555  K00755.01  Kepler-664 b       CONFIRMED        CANDIDATE   \n",
       "\n",
       "   koi_score  koi_fpflag_nt  koi_fpflag_ss  koi_fpflag_co  ...  \\\n",
       "0      1.000              0              0              0  ...   \n",
       "1      0.969              0              0              0  ...   \n",
       "2      0.000              0              1              0  ...   \n",
       "3      0.000              0              1              0  ...   \n",
       "4      1.000              0              0              0  ...   \n",
       "\n",
       "   koi_steff_err2  koi_slogg  koi_slogg_err1  koi_slogg_err2  koi_srad  \\\n",
       "0           -81.0      4.467           0.064          -0.096     0.927   \n",
       "1           -81.0      4.467           0.064          -0.096     0.927   \n",
       "2          -176.0      4.544           0.044          -0.176     0.868   \n",
       "3          -174.0      4.564           0.053          -0.168     0.791   \n",
       "4          -211.0      4.438           0.070          -0.210     1.046   \n",
       "\n",
       "   koi_srad_err1  koi_srad_err2         ra        dec  koi_kepmag  \n",
       "0          0.105         -0.061  291.93423  48.141651      15.347  \n",
       "1          0.105         -0.061  291.93423  48.141651      15.347  \n",
       "2          0.233         -0.078  297.00482  48.134129      15.436  \n",
       "3          0.201         -0.067  285.53461  48.285210      15.597  \n",
       "4          0.334         -0.133  288.75488  48.226200      15.509  \n",
       "\n",
       "[5 rows x 50 columns]"
      ]
     },
     "execution_count": 32,
     "metadata": {},
     "output_type": "execute_result"
    }
   ],
   "source": [
    "# read the cvs file into Pandas for the Kepler Object data\n",
    "\n",
    "objects = pd.read_csv('kdata.csv')\n",
    "objects.head()\n"
   ]
  },
  {
   "cell_type": "code",
   "execution_count": 33,
   "metadata": {},
   "outputs": [
    {
     "data": {
      "text/plain": [
       "(9564, 50)"
      ]
     },
     "execution_count": 33,
     "metadata": {},
     "output_type": "execute_result"
    }
   ],
   "source": [
    "# understand data\n",
    "objects.shape"
   ]
  },
  {
   "cell_type": "code",
   "execution_count": 34,
   "metadata": {},
   "outputs": [
    {
     "data": {
      "text/plain": [
       "Index(['rowid', 'kepid', 'kepoi_name', 'kepler_name', 'koi_disposition',\n",
       "       'koi_pdisposition', 'koi_score', 'koi_fpflag_nt', 'koi_fpflag_ss',\n",
       "       'koi_fpflag_co', 'koi_fpflag_ec', 'koi_period', 'koi_period_err1',\n",
       "       'koi_period_err2', 'koi_time0bk', 'koi_time0bk_err1',\n",
       "       'koi_time0bk_err2', 'koi_impact', 'koi_impact_err1', 'koi_impact_err2',\n",
       "       'koi_duration', 'koi_duration_err1', 'koi_duration_err2', 'koi_depth',\n",
       "       'koi_depth_err1', 'koi_depth_err2', 'koi_prad', 'koi_prad_err1',\n",
       "       'koi_prad_err2', 'koi_teq', 'koi_teq_err1', 'koi_teq_err2', 'koi_insol',\n",
       "       'koi_insol_err1', 'koi_insol_err2', 'koi_model_snr', 'koi_tce_plnt_num',\n",
       "       'koi_tce_delivname', 'koi_steff', 'koi_steff_err1', 'koi_steff_err2',\n",
       "       'koi_slogg', 'koi_slogg_err1', 'koi_slogg_err2', 'koi_srad',\n",
       "       'koi_srad_err1', 'koi_srad_err2', 'ra', 'dec', 'koi_kepmag'],\n",
       "      dtype='object')"
      ]
     },
     "execution_count": 34,
     "metadata": {},
     "output_type": "execute_result"
    }
   ],
   "source": [
    "# understand data\n",
    "objects.columns\n"
   ]
  },
  {
   "cell_type": "code",
   "execution_count": 35,
   "metadata": {},
   "outputs": [],
   "source": [
    "# a few columns seem to be empty looking at the CSV in excel - will delete those columns\n",
    "#koi_teq_err1, koi_teq_err2\n",
    "objects.drop(\"koi_teq_err1\", inplace=True, axis=1)\n",
    "objects.drop(\"koi_teq_err2\", inplace=True, axis=1)"
   ]
  },
  {
   "cell_type": "code",
   "execution_count": 36,
   "metadata": {},
   "outputs": [
    {
     "data": {
      "text/plain": [
       "Index(['rowid', 'kepid', 'kepoi_name', 'kepler_name', 'koi_disposition',\n",
       "       'koi_pdisposition', 'koi_score', 'koi_fpflag_nt', 'koi_fpflag_ss',\n",
       "       'koi_fpflag_co', 'koi_fpflag_ec', 'koi_period', 'koi_period_err1',\n",
       "       'koi_period_err2', 'koi_time0bk', 'koi_time0bk_err1',\n",
       "       'koi_time0bk_err2', 'koi_impact', 'koi_impact_err1', 'koi_impact_err2',\n",
       "       'koi_duration', 'koi_duration_err1', 'koi_duration_err2', 'koi_depth',\n",
       "       'koi_depth_err1', 'koi_depth_err2', 'koi_prad', 'koi_prad_err1',\n",
       "       'koi_prad_err2', 'koi_teq', 'koi_insol', 'koi_insol_err1',\n",
       "       'koi_insol_err2', 'koi_model_snr', 'koi_tce_plnt_num',\n",
       "       'koi_tce_delivname', 'koi_steff', 'koi_steff_err1', 'koi_steff_err2',\n",
       "       'koi_slogg', 'koi_slogg_err1', 'koi_slogg_err2', 'koi_srad',\n",
       "       'koi_srad_err1', 'koi_srad_err2', 'ra', 'dec', 'koi_kepmag'],\n",
       "      dtype='object')"
      ]
     },
     "execution_count": 36,
     "metadata": {},
     "output_type": "execute_result"
    }
   ],
   "source": [
    "# validate empty columns are gone\n",
    "objects.columns\n"
   ]
  },
  {
   "cell_type": "code",
   "execution_count": 37,
   "metadata": {},
   "outputs": [
    {
     "data": {
      "text/plain": [
       "rowid                   0\n",
       "kepid                   0\n",
       "kepoi_name              0\n",
       "kepler_name          7270\n",
       "koi_disposition         0\n",
       "koi_pdisposition        0\n",
       "koi_score            1510\n",
       "koi_fpflag_nt           0\n",
       "koi_fpflag_ss           0\n",
       "koi_fpflag_co           0\n",
       "koi_fpflag_ec           0\n",
       "koi_period              0\n",
       "koi_period_err1       454\n",
       "koi_period_err2       454\n",
       "koi_time0bk             0\n",
       "koi_time0bk_err1      454\n",
       "koi_time0bk_err2      454\n",
       "koi_impact            363\n",
       "koi_impact_err1       454\n",
       "koi_impact_err2       454\n",
       "koi_duration            0\n",
       "koi_duration_err1     454\n",
       "koi_duration_err2     454\n",
       "koi_depth             363\n",
       "koi_depth_err1        454\n",
       "koi_depth_err2        454\n",
       "koi_prad              363\n",
       "koi_prad_err1         363\n",
       "koi_prad_err2         363\n",
       "koi_teq               363\n",
       "koi_insol             321\n",
       "koi_insol_err1        321\n",
       "koi_insol_err2        321\n",
       "koi_model_snr         363\n",
       "koi_tce_plnt_num      346\n",
       "koi_tce_delivname     346\n",
       "koi_steff             363\n",
       "koi_steff_err1        468\n",
       "koi_steff_err2        483\n",
       "koi_slogg             363\n",
       "koi_slogg_err1        468\n",
       "koi_slogg_err2        468\n",
       "koi_srad              363\n",
       "koi_srad_err1         468\n",
       "koi_srad_err2         468\n",
       "ra                      0\n",
       "dec                     0\n",
       "koi_kepmag              1\n",
       "dtype: int64"
      ]
     },
     "execution_count": 37,
     "metadata": {},
     "output_type": "execute_result"
    }
   ],
   "source": [
    "# count null values in each column\n",
    "objects.isnull().sum()"
   ]
  },
  {
   "cell_type": "code",
   "execution_count": 38,
   "metadata": {},
   "outputs": [],
   "source": [
    "#cells that have actual data start with columns koi_period, everything before that seems to be a label or flag\n",
    "#I am comfortable dropping rows of data with missing values starting after Kepler name \n",
    "# (not having a name seems really common)\n",
    "\n",
    "#being told to drop all non-numeric columns\n",
    "# rowid                  int64\n",
    "# kepid                  int64\n",
    "# kepoi_name            object\n",
    "# koi_disposition       object\n",
    "# koi_pdisposition      object\n",
    "# koi_score            float64\n",
    "\n",
    "objects.drop(\"kepler_name\", inplace=True, axis=1)\n",
    "objects.drop(\"kepid\", inplace=True, axis=1)\n",
    "objects.drop(\"kepoi_name\", inplace=True, axis=1)\n",
    "objects.drop(\"koi_pdisposition\", inplace=True, axis=1)\n",
    "objects.drop(\"koi_score\", inplace=True, axis=1)\n",
    "objects.drop(\"rowid\", inplace=True, axis=1)"
   ]
  },
  {
   "cell_type": "code",
   "execution_count": 39,
   "metadata": {},
   "outputs": [],
   "source": [
    "# also need to drop text column \n",
    "# koi_tce_delivname     object\n",
    "objects.drop(\"koi_tce_delivname\", inplace=True, axis=1)"
   ]
  },
  {
   "cell_type": "code",
   "execution_count": 40,
   "metadata": {},
   "outputs": [
    {
     "data": {
      "text/plain": [
       "koi_disposition        0\n",
       "koi_fpflag_nt          0\n",
       "koi_fpflag_ss          0\n",
       "koi_fpflag_co          0\n",
       "koi_fpflag_ec          0\n",
       "koi_period             0\n",
       "koi_period_err1      454\n",
       "koi_period_err2      454\n",
       "koi_time0bk            0\n",
       "koi_time0bk_err1     454\n",
       "koi_time0bk_err2     454\n",
       "koi_impact           363\n",
       "koi_impact_err1      454\n",
       "koi_impact_err2      454\n",
       "koi_duration           0\n",
       "koi_duration_err1    454\n",
       "koi_duration_err2    454\n",
       "koi_depth            363\n",
       "koi_depth_err1       454\n",
       "koi_depth_err2       454\n",
       "koi_prad             363\n",
       "koi_prad_err1        363\n",
       "koi_prad_err2        363\n",
       "koi_teq              363\n",
       "koi_insol            321\n",
       "koi_insol_err1       321\n",
       "koi_insol_err2       321\n",
       "koi_model_snr        363\n",
       "koi_tce_plnt_num     346\n",
       "koi_steff            363\n",
       "koi_steff_err1       468\n",
       "koi_steff_err2       483\n",
       "koi_slogg            363\n",
       "koi_slogg_err1       468\n",
       "koi_slogg_err2       468\n",
       "koi_srad             363\n",
       "koi_srad_err1        468\n",
       "koi_srad_err2        468\n",
       "ra                     0\n",
       "dec                    0\n",
       "koi_kepmag             1\n",
       "dtype: int64"
      ]
     },
     "execution_count": 40,
     "metadata": {},
     "output_type": "execute_result"
    }
   ],
   "source": [
    "# count null values in each column\n",
    "objects.isnull().sum()"
   ]
  },
  {
   "cell_type": "code",
   "execution_count": 41,
   "metadata": {},
   "outputs": [],
   "source": [
    "# seems several columns are missing data rows - will need to remove null values\n",
    "# drop duplicates in the data\n",
    "# objects_df.drop_duplicates(inplace=True)"
   ]
  },
  {
   "cell_type": "code",
   "execution_count": 42,
   "metadata": {},
   "outputs": [],
   "source": [
    "# check to see if there were any duplicates:\n",
    "# objects_df.shape\n",
    "# result is same number of rows, no duplicates"
   ]
  },
  {
   "cell_type": "code",
   "execution_count": 43,
   "metadata": {},
   "outputs": [
    {
     "data": {
      "text/plain": [
       "(8744, 41)"
      ]
     },
     "execution_count": 43,
     "metadata": {},
     "output_type": "execute_result"
    }
   ],
   "source": [
    "#drop rows with missing values\n",
    "objects_col_df  = objects.dropna()\n",
    "objects_col_df.shape"
   ]
  },
  {
   "cell_type": "code",
   "execution_count": 44,
   "metadata": {},
   "outputs": [],
   "source": [
    "# data file is reduced to 8744 rows of data, 41 columns"
   ]
  },
  {
   "cell_type": "code",
   "execution_count": 45,
   "metadata": {},
   "outputs": [
    {
     "data": {
      "text/plain": [
       "koi_disposition       object\n",
       "koi_fpflag_nt          int64\n",
       "koi_fpflag_ss          int64\n",
       "koi_fpflag_co          int64\n",
       "koi_fpflag_ec          int64\n",
       "koi_period           float64\n",
       "koi_period_err1      float64\n",
       "koi_period_err2      float64\n",
       "koi_time0bk          float64\n",
       "koi_time0bk_err1     float64\n",
       "koi_time0bk_err2     float64\n",
       "koi_impact           float64\n",
       "koi_impact_err1      float64\n",
       "koi_impact_err2      float64\n",
       "koi_duration         float64\n",
       "koi_duration_err1    float64\n",
       "koi_duration_err2    float64\n",
       "koi_depth            float64\n",
       "koi_depth_err1       float64\n",
       "koi_depth_err2       float64\n",
       "koi_prad             float64\n",
       "koi_prad_err1        float64\n",
       "koi_prad_err2        float64\n",
       "koi_teq              float64\n",
       "koi_insol            float64\n",
       "koi_insol_err1       float64\n",
       "koi_insol_err2       float64\n",
       "koi_model_snr        float64\n",
       "koi_tce_plnt_num     float64\n",
       "koi_steff            float64\n",
       "koi_steff_err1       float64\n",
       "koi_steff_err2       float64\n",
       "koi_slogg            float64\n",
       "koi_slogg_err1       float64\n",
       "koi_slogg_err2       float64\n",
       "koi_srad             float64\n",
       "koi_srad_err1        float64\n",
       "koi_srad_err2        float64\n",
       "ra                   float64\n",
       "dec                  float64\n",
       "koi_kepmag           float64\n",
       "dtype: object"
      ]
     },
     "execution_count": 45,
     "metadata": {},
     "output_type": "execute_result"
    }
   ],
   "source": [
    "# look at column data types \n",
    "objects.dtypes\n",
    "# all except y value of koi_disposition is numeric"
   ]
  },
  {
   "cell_type": "code",
   "execution_count": 46,
   "metadata": {},
   "outputs": [
    {
     "data": {
      "text/html": [
       "<div>\n",
       "<style scoped>\n",
       "    .dataframe tbody tr th:only-of-type {\n",
       "        vertical-align: middle;\n",
       "    }\n",
       "\n",
       "    .dataframe tbody tr th {\n",
       "        vertical-align: top;\n",
       "    }\n",
       "\n",
       "    .dataframe thead th {\n",
       "        text-align: right;\n",
       "    }\n",
       "</style>\n",
       "<table border=\"1\" class=\"dataframe\">\n",
       "  <thead>\n",
       "    <tr style=\"text-align: right;\">\n",
       "      <th></th>\n",
       "      <th>koi_fpflag_nt</th>\n",
       "      <th>koi_fpflag_ss</th>\n",
       "      <th>koi_fpflag_co</th>\n",
       "      <th>koi_fpflag_ec</th>\n",
       "      <th>koi_period</th>\n",
       "      <th>koi_period_err1</th>\n",
       "      <th>koi_period_err2</th>\n",
       "      <th>koi_time0bk</th>\n",
       "      <th>koi_time0bk_err1</th>\n",
       "      <th>koi_time0bk_err2</th>\n",
       "      <th>...</th>\n",
       "      <th>koi_slogg_err2</th>\n",
       "      <th>koi_srad</th>\n",
       "      <th>koi_srad_err1</th>\n",
       "      <th>koi_srad_err2</th>\n",
       "      <th>ra</th>\n",
       "      <th>dec</th>\n",
       "      <th>koi_kepmag</th>\n",
       "      <th>koi_disposition_CANDIDATE</th>\n",
       "      <th>koi_disposition_CONFIRMED</th>\n",
       "      <th>koi_disposition_FALSE POSITIVE</th>\n",
       "    </tr>\n",
       "  </thead>\n",
       "  <tbody>\n",
       "    <tr>\n",
       "      <th>0</th>\n",
       "      <td>0</td>\n",
       "      <td>0</td>\n",
       "      <td>0</td>\n",
       "      <td>0</td>\n",
       "      <td>9.488036</td>\n",
       "      <td>2.775000e-05</td>\n",
       "      <td>-2.775000e-05</td>\n",
       "      <td>170.538750</td>\n",
       "      <td>0.002160</td>\n",
       "      <td>-0.002160</td>\n",
       "      <td>...</td>\n",
       "      <td>-0.096</td>\n",
       "      <td>0.927</td>\n",
       "      <td>0.105</td>\n",
       "      <td>-0.061</td>\n",
       "      <td>291.93423</td>\n",
       "      <td>48.141651</td>\n",
       "      <td>15.347</td>\n",
       "      <td>0</td>\n",
       "      <td>1</td>\n",
       "      <td>0</td>\n",
       "    </tr>\n",
       "    <tr>\n",
       "      <th>1</th>\n",
       "      <td>0</td>\n",
       "      <td>0</td>\n",
       "      <td>0</td>\n",
       "      <td>0</td>\n",
       "      <td>54.418383</td>\n",
       "      <td>2.479000e-04</td>\n",
       "      <td>-2.479000e-04</td>\n",
       "      <td>162.513840</td>\n",
       "      <td>0.003520</td>\n",
       "      <td>-0.003520</td>\n",
       "      <td>...</td>\n",
       "      <td>-0.096</td>\n",
       "      <td>0.927</td>\n",
       "      <td>0.105</td>\n",
       "      <td>-0.061</td>\n",
       "      <td>291.93423</td>\n",
       "      <td>48.141651</td>\n",
       "      <td>15.347</td>\n",
       "      <td>0</td>\n",
       "      <td>1</td>\n",
       "      <td>0</td>\n",
       "    </tr>\n",
       "    <tr>\n",
       "      <th>2</th>\n",
       "      <td>0</td>\n",
       "      <td>1</td>\n",
       "      <td>0</td>\n",
       "      <td>0</td>\n",
       "      <td>19.899140</td>\n",
       "      <td>1.494000e-05</td>\n",
       "      <td>-1.494000e-05</td>\n",
       "      <td>175.850252</td>\n",
       "      <td>0.000581</td>\n",
       "      <td>-0.000581</td>\n",
       "      <td>...</td>\n",
       "      <td>-0.176</td>\n",
       "      <td>0.868</td>\n",
       "      <td>0.233</td>\n",
       "      <td>-0.078</td>\n",
       "      <td>297.00482</td>\n",
       "      <td>48.134129</td>\n",
       "      <td>15.436</td>\n",
       "      <td>0</td>\n",
       "      <td>0</td>\n",
       "      <td>1</td>\n",
       "    </tr>\n",
       "    <tr>\n",
       "      <th>3</th>\n",
       "      <td>0</td>\n",
       "      <td>1</td>\n",
       "      <td>0</td>\n",
       "      <td>0</td>\n",
       "      <td>1.736952</td>\n",
       "      <td>2.630000e-07</td>\n",
       "      <td>-2.630000e-07</td>\n",
       "      <td>170.307565</td>\n",
       "      <td>0.000115</td>\n",
       "      <td>-0.000115</td>\n",
       "      <td>...</td>\n",
       "      <td>-0.168</td>\n",
       "      <td>0.791</td>\n",
       "      <td>0.201</td>\n",
       "      <td>-0.067</td>\n",
       "      <td>285.53461</td>\n",
       "      <td>48.285210</td>\n",
       "      <td>15.597</td>\n",
       "      <td>0</td>\n",
       "      <td>0</td>\n",
       "      <td>1</td>\n",
       "    </tr>\n",
       "    <tr>\n",
       "      <th>4</th>\n",
       "      <td>0</td>\n",
       "      <td>0</td>\n",
       "      <td>0</td>\n",
       "      <td>0</td>\n",
       "      <td>2.525592</td>\n",
       "      <td>3.761000e-06</td>\n",
       "      <td>-3.761000e-06</td>\n",
       "      <td>171.595550</td>\n",
       "      <td>0.001130</td>\n",
       "      <td>-0.001130</td>\n",
       "      <td>...</td>\n",
       "      <td>-0.210</td>\n",
       "      <td>1.046</td>\n",
       "      <td>0.334</td>\n",
       "      <td>-0.133</td>\n",
       "      <td>288.75488</td>\n",
       "      <td>48.226200</td>\n",
       "      <td>15.509</td>\n",
       "      <td>0</td>\n",
       "      <td>1</td>\n",
       "      <td>0</td>\n",
       "    </tr>\n",
       "  </tbody>\n",
       "</table>\n",
       "<p>5 rows × 43 columns</p>\n",
       "</div>"
      ],
      "text/plain": [
       "   koi_fpflag_nt  koi_fpflag_ss  koi_fpflag_co  koi_fpflag_ec  koi_period  \\\n",
       "0              0              0              0              0    9.488036   \n",
       "1              0              0              0              0   54.418383   \n",
       "2              0              1              0              0   19.899140   \n",
       "3              0              1              0              0    1.736952   \n",
       "4              0              0              0              0    2.525592   \n",
       "\n",
       "   koi_period_err1  koi_period_err2  koi_time0bk  koi_time0bk_err1  \\\n",
       "0     2.775000e-05    -2.775000e-05   170.538750          0.002160   \n",
       "1     2.479000e-04    -2.479000e-04   162.513840          0.003520   \n",
       "2     1.494000e-05    -1.494000e-05   175.850252          0.000581   \n",
       "3     2.630000e-07    -2.630000e-07   170.307565          0.000115   \n",
       "4     3.761000e-06    -3.761000e-06   171.595550          0.001130   \n",
       "\n",
       "   koi_time0bk_err2  ...  koi_slogg_err2  koi_srad  koi_srad_err1  \\\n",
       "0         -0.002160  ...          -0.096     0.927          0.105   \n",
       "1         -0.003520  ...          -0.096     0.927          0.105   \n",
       "2         -0.000581  ...          -0.176     0.868          0.233   \n",
       "3         -0.000115  ...          -0.168     0.791          0.201   \n",
       "4         -0.001130  ...          -0.210     1.046          0.334   \n",
       "\n",
       "   koi_srad_err2         ra        dec  koi_kepmag  koi_disposition_CANDIDATE  \\\n",
       "0         -0.061  291.93423  48.141651      15.347                          0   \n",
       "1         -0.061  291.93423  48.141651      15.347                          0   \n",
       "2         -0.078  297.00482  48.134129      15.436                          0   \n",
       "3         -0.067  285.53461  48.285210      15.597                          0   \n",
       "4         -0.133  288.75488  48.226200      15.509                          0   \n",
       "\n",
       "   koi_disposition_CONFIRMED  koi_disposition_FALSE POSITIVE  \n",
       "0                          1                               0  \n",
       "1                          1                               0  \n",
       "2                          0                               1  \n",
       "3                          0                               1  \n",
       "4                          1                               0  \n",
       "\n",
       "[5 rows x 43 columns]"
      ]
     },
     "execution_count": 46,
     "metadata": {},
     "output_type": "execute_result"
    }
   ],
   "source": [
    "#koi_disposition is the y variable and string, need to convert category values to intervalues by Sklearn library\n",
    "# from activity #7 20-1 reference\n",
    "\n",
    "objects_encoded_df = pd.get_dummies(objects_col_df, columns=[\"koi_disposition\"])\n",
    "objects_encoded_df.head()\n",
    "\n",
    "# data is encoded at final columns of dataframe into 3 values \n",
    "# koi_disposition_CANDIDATE\tkoi_disposition_CONFIRMED\tkoi_disposition_FALSE POSITIVE"
   ]
  },
  {
   "cell_type": "markdown",
   "metadata": {},
   "source": [
    "## Use Logisitc Regression as baseline model for Comparison"
   ]
  },
  {
   "cell_type": "code",
   "execution_count": 47,
   "metadata": {},
   "outputs": [],
   "source": [
    "# create baseline model for comparison: logistic regression\n",
    "# import sklearn.linear_model for logistic regression\n",
    "\n",
    "from sklearn.linear_model import LogisticRegression\n",
    "classifier = LogisticRegression(max_iter=500) \n",
    "model = classifier\n"
   ]
  },
  {
   "cell_type": "code",
   "execution_count": 48,
   "metadata": {},
   "outputs": [
    {
     "name": "stdout",
     "output_type": "stream",
     "text": [
      "The scikit-learn version is 0.24.1.\n"
     ]
    }
   ],
   "source": [
    "# validate sklearn is uptodatae:\n",
    "import sklearn\n",
    "print('The scikit-learn version is {}.'.format(sklearn.__version__))"
   ]
  },
  {
   "cell_type": "code",
   "execution_count": 49,
   "metadata": {},
   "outputs": [],
   "source": [
    "# objects_col_df"
   ]
  },
  {
   "cell_type": "code",
   "execution_count": 50,
   "metadata": {},
   "outputs": [
    {
     "data": {
      "text/plain": [
       "0            CONFIRMED\n",
       "1            CONFIRMED\n",
       "2       FALSE POSITIVE\n",
       "3       FALSE POSITIVE\n",
       "4            CONFIRMED\n",
       "             ...      \n",
       "9559    FALSE POSITIVE\n",
       "9560    FALSE POSITIVE\n",
       "9561         CANDIDATE\n",
       "9562    FALSE POSITIVE\n",
       "9563    FALSE POSITIVE\n",
       "Name: koi_disposition, Length: 8744, dtype: object"
      ]
     },
     "execution_count": 50,
     "metadata": {},
     "output_type": "execute_result"
    }
   ],
   "source": [
    "# set y values into new dataframe\n",
    "y_values_df = objects_col_df[\"koi_disposition\"]\n",
    "# y_encoded_df = pd.get_dummies(y_values_df, columns=[\"koi_disposition\"])\n",
    "\n",
    "y_encoded_df = y_values_df\n",
    "y_encoded_df"
   ]
  },
  {
   "cell_type": "code",
   "execution_count": 51,
   "metadata": {},
   "outputs": [
    {
     "data": {
      "text/html": [
       "<div>\n",
       "<style scoped>\n",
       "    .dataframe tbody tr th:only-of-type {\n",
       "        vertical-align: middle;\n",
       "    }\n",
       "\n",
       "    .dataframe tbody tr th {\n",
       "        vertical-align: top;\n",
       "    }\n",
       "\n",
       "    .dataframe thead th {\n",
       "        text-align: right;\n",
       "    }\n",
       "</style>\n",
       "<table border=\"1\" class=\"dataframe\">\n",
       "  <thead>\n",
       "    <tr style=\"text-align: right;\">\n",
       "      <th></th>\n",
       "      <th>koi_fpflag_nt</th>\n",
       "      <th>koi_fpflag_ss</th>\n",
       "      <th>koi_fpflag_co</th>\n",
       "      <th>koi_fpflag_ec</th>\n",
       "      <th>koi_period</th>\n",
       "      <th>koi_period_err1</th>\n",
       "      <th>koi_period_err2</th>\n",
       "      <th>koi_time0bk</th>\n",
       "      <th>koi_time0bk_err1</th>\n",
       "      <th>koi_time0bk_err2</th>\n",
       "      <th>...</th>\n",
       "      <th>koi_steff_err2</th>\n",
       "      <th>koi_slogg</th>\n",
       "      <th>koi_slogg_err1</th>\n",
       "      <th>koi_slogg_err2</th>\n",
       "      <th>koi_srad</th>\n",
       "      <th>koi_srad_err1</th>\n",
       "      <th>koi_srad_err2</th>\n",
       "      <th>ra</th>\n",
       "      <th>dec</th>\n",
       "      <th>koi_kepmag</th>\n",
       "    </tr>\n",
       "  </thead>\n",
       "  <tbody>\n",
       "    <tr>\n",
       "      <th>0</th>\n",
       "      <td>0</td>\n",
       "      <td>0</td>\n",
       "      <td>0</td>\n",
       "      <td>0</td>\n",
       "      <td>9.488036</td>\n",
       "      <td>2.775000e-05</td>\n",
       "      <td>-2.775000e-05</td>\n",
       "      <td>170.538750</td>\n",
       "      <td>0.002160</td>\n",
       "      <td>-0.002160</td>\n",
       "      <td>...</td>\n",
       "      <td>-81.0</td>\n",
       "      <td>4.467</td>\n",
       "      <td>0.064</td>\n",
       "      <td>-0.096</td>\n",
       "      <td>0.927</td>\n",
       "      <td>0.105</td>\n",
       "      <td>-0.061</td>\n",
       "      <td>291.93423</td>\n",
       "      <td>48.141651</td>\n",
       "      <td>15.347</td>\n",
       "    </tr>\n",
       "    <tr>\n",
       "      <th>1</th>\n",
       "      <td>0</td>\n",
       "      <td>0</td>\n",
       "      <td>0</td>\n",
       "      <td>0</td>\n",
       "      <td>54.418383</td>\n",
       "      <td>2.479000e-04</td>\n",
       "      <td>-2.479000e-04</td>\n",
       "      <td>162.513840</td>\n",
       "      <td>0.003520</td>\n",
       "      <td>-0.003520</td>\n",
       "      <td>...</td>\n",
       "      <td>-81.0</td>\n",
       "      <td>4.467</td>\n",
       "      <td>0.064</td>\n",
       "      <td>-0.096</td>\n",
       "      <td>0.927</td>\n",
       "      <td>0.105</td>\n",
       "      <td>-0.061</td>\n",
       "      <td>291.93423</td>\n",
       "      <td>48.141651</td>\n",
       "      <td>15.347</td>\n",
       "    </tr>\n",
       "    <tr>\n",
       "      <th>2</th>\n",
       "      <td>0</td>\n",
       "      <td>1</td>\n",
       "      <td>0</td>\n",
       "      <td>0</td>\n",
       "      <td>19.899140</td>\n",
       "      <td>1.494000e-05</td>\n",
       "      <td>-1.494000e-05</td>\n",
       "      <td>175.850252</td>\n",
       "      <td>0.000581</td>\n",
       "      <td>-0.000581</td>\n",
       "      <td>...</td>\n",
       "      <td>-176.0</td>\n",
       "      <td>4.544</td>\n",
       "      <td>0.044</td>\n",
       "      <td>-0.176</td>\n",
       "      <td>0.868</td>\n",
       "      <td>0.233</td>\n",
       "      <td>-0.078</td>\n",
       "      <td>297.00482</td>\n",
       "      <td>48.134129</td>\n",
       "      <td>15.436</td>\n",
       "    </tr>\n",
       "    <tr>\n",
       "      <th>3</th>\n",
       "      <td>0</td>\n",
       "      <td>1</td>\n",
       "      <td>0</td>\n",
       "      <td>0</td>\n",
       "      <td>1.736952</td>\n",
       "      <td>2.630000e-07</td>\n",
       "      <td>-2.630000e-07</td>\n",
       "      <td>170.307565</td>\n",
       "      <td>0.000115</td>\n",
       "      <td>-0.000115</td>\n",
       "      <td>...</td>\n",
       "      <td>-174.0</td>\n",
       "      <td>4.564</td>\n",
       "      <td>0.053</td>\n",
       "      <td>-0.168</td>\n",
       "      <td>0.791</td>\n",
       "      <td>0.201</td>\n",
       "      <td>-0.067</td>\n",
       "      <td>285.53461</td>\n",
       "      <td>48.285210</td>\n",
       "      <td>15.597</td>\n",
       "    </tr>\n",
       "    <tr>\n",
       "      <th>4</th>\n",
       "      <td>0</td>\n",
       "      <td>0</td>\n",
       "      <td>0</td>\n",
       "      <td>0</td>\n",
       "      <td>2.525592</td>\n",
       "      <td>3.761000e-06</td>\n",
       "      <td>-3.761000e-06</td>\n",
       "      <td>171.595550</td>\n",
       "      <td>0.001130</td>\n",
       "      <td>-0.001130</td>\n",
       "      <td>...</td>\n",
       "      <td>-211.0</td>\n",
       "      <td>4.438</td>\n",
       "      <td>0.070</td>\n",
       "      <td>-0.210</td>\n",
       "      <td>1.046</td>\n",
       "      <td>0.334</td>\n",
       "      <td>-0.133</td>\n",
       "      <td>288.75488</td>\n",
       "      <td>48.226200</td>\n",
       "      <td>15.509</td>\n",
       "    </tr>\n",
       "    <tr>\n",
       "      <th>...</th>\n",
       "      <td>...</td>\n",
       "      <td>...</td>\n",
       "      <td>...</td>\n",
       "      <td>...</td>\n",
       "      <td>...</td>\n",
       "      <td>...</td>\n",
       "      <td>...</td>\n",
       "      <td>...</td>\n",
       "      <td>...</td>\n",
       "      <td>...</td>\n",
       "      <td>...</td>\n",
       "      <td>...</td>\n",
       "      <td>...</td>\n",
       "      <td>...</td>\n",
       "      <td>...</td>\n",
       "      <td>...</td>\n",
       "      <td>...</td>\n",
       "      <td>...</td>\n",
       "      <td>...</td>\n",
       "      <td>...</td>\n",
       "      <td>...</td>\n",
       "    </tr>\n",
       "    <tr>\n",
       "      <th>9559</th>\n",
       "      <td>0</td>\n",
       "      <td>0</td>\n",
       "      <td>0</td>\n",
       "      <td>1</td>\n",
       "      <td>8.589871</td>\n",
       "      <td>1.846000e-04</td>\n",
       "      <td>-1.846000e-04</td>\n",
       "      <td>132.016100</td>\n",
       "      <td>0.015700</td>\n",
       "      <td>-0.015700</td>\n",
       "      <td>...</td>\n",
       "      <td>-152.0</td>\n",
       "      <td>4.296</td>\n",
       "      <td>0.231</td>\n",
       "      <td>-0.189</td>\n",
       "      <td>1.088</td>\n",
       "      <td>0.313</td>\n",
       "      <td>-0.228</td>\n",
       "      <td>298.74921</td>\n",
       "      <td>46.973351</td>\n",
       "      <td>14.478</td>\n",
       "    </tr>\n",
       "    <tr>\n",
       "      <th>9560</th>\n",
       "      <td>0</td>\n",
       "      <td>1</td>\n",
       "      <td>1</td>\n",
       "      <td>0</td>\n",
       "      <td>0.527699</td>\n",
       "      <td>1.160000e-07</td>\n",
       "      <td>-1.160000e-07</td>\n",
       "      <td>131.705093</td>\n",
       "      <td>0.000170</td>\n",
       "      <td>-0.000170</td>\n",
       "      <td>...</td>\n",
       "      <td>-166.0</td>\n",
       "      <td>4.529</td>\n",
       "      <td>0.035</td>\n",
       "      <td>-0.196</td>\n",
       "      <td>0.903</td>\n",
       "      <td>0.237</td>\n",
       "      <td>-0.079</td>\n",
       "      <td>297.18875</td>\n",
       "      <td>47.093819</td>\n",
       "      <td>14.082</td>\n",
       "    </tr>\n",
       "    <tr>\n",
       "      <th>9561</th>\n",
       "      <td>0</td>\n",
       "      <td>0</td>\n",
       "      <td>0</td>\n",
       "      <td>0</td>\n",
       "      <td>1.739849</td>\n",
       "      <td>1.780000e-05</td>\n",
       "      <td>-1.780000e-05</td>\n",
       "      <td>133.001270</td>\n",
       "      <td>0.007690</td>\n",
       "      <td>-0.007690</td>\n",
       "      <td>...</td>\n",
       "      <td>-220.0</td>\n",
       "      <td>4.444</td>\n",
       "      <td>0.056</td>\n",
       "      <td>-0.224</td>\n",
       "      <td>1.031</td>\n",
       "      <td>0.341</td>\n",
       "      <td>-0.114</td>\n",
       "      <td>286.50937</td>\n",
       "      <td>47.163219</td>\n",
       "      <td>14.757</td>\n",
       "    </tr>\n",
       "    <tr>\n",
       "      <th>9562</th>\n",
       "      <td>0</td>\n",
       "      <td>0</td>\n",
       "      <td>1</td>\n",
       "      <td>0</td>\n",
       "      <td>0.681402</td>\n",
       "      <td>2.434000e-06</td>\n",
       "      <td>-2.434000e-06</td>\n",
       "      <td>132.181750</td>\n",
       "      <td>0.002850</td>\n",
       "      <td>-0.002850</td>\n",
       "      <td>...</td>\n",
       "      <td>-236.0</td>\n",
       "      <td>4.447</td>\n",
       "      <td>0.056</td>\n",
       "      <td>-0.224</td>\n",
       "      <td>1.041</td>\n",
       "      <td>0.341</td>\n",
       "      <td>-0.114</td>\n",
       "      <td>294.16489</td>\n",
       "      <td>47.176281</td>\n",
       "      <td>15.385</td>\n",
       "    </tr>\n",
       "    <tr>\n",
       "      <th>9563</th>\n",
       "      <td>0</td>\n",
       "      <td>0</td>\n",
       "      <td>1</td>\n",
       "      <td>1</td>\n",
       "      <td>4.856035</td>\n",
       "      <td>6.356000e-05</td>\n",
       "      <td>-6.356000e-05</td>\n",
       "      <td>135.993300</td>\n",
       "      <td>0.010800</td>\n",
       "      <td>-0.010800</td>\n",
       "      <td>...</td>\n",
       "      <td>-225.0</td>\n",
       "      <td>4.385</td>\n",
       "      <td>0.054</td>\n",
       "      <td>-0.216</td>\n",
       "      <td>1.193</td>\n",
       "      <td>0.410</td>\n",
       "      <td>-0.137</td>\n",
       "      <td>297.00977</td>\n",
       "      <td>47.121021</td>\n",
       "      <td>14.826</td>\n",
       "    </tr>\n",
       "  </tbody>\n",
       "</table>\n",
       "<p>8744 rows × 40 columns</p>\n",
       "</div>"
      ],
      "text/plain": [
       "      koi_fpflag_nt  koi_fpflag_ss  koi_fpflag_co  koi_fpflag_ec  koi_period  \\\n",
       "0                 0              0              0              0    9.488036   \n",
       "1                 0              0              0              0   54.418383   \n",
       "2                 0              1              0              0   19.899140   \n",
       "3                 0              1              0              0    1.736952   \n",
       "4                 0              0              0              0    2.525592   \n",
       "...             ...            ...            ...            ...         ...   \n",
       "9559              0              0              0              1    8.589871   \n",
       "9560              0              1              1              0    0.527699   \n",
       "9561              0              0              0              0    1.739849   \n",
       "9562              0              0              1              0    0.681402   \n",
       "9563              0              0              1              1    4.856035   \n",
       "\n",
       "      koi_period_err1  koi_period_err2  koi_time0bk  koi_time0bk_err1  \\\n",
       "0        2.775000e-05    -2.775000e-05   170.538750          0.002160   \n",
       "1        2.479000e-04    -2.479000e-04   162.513840          0.003520   \n",
       "2        1.494000e-05    -1.494000e-05   175.850252          0.000581   \n",
       "3        2.630000e-07    -2.630000e-07   170.307565          0.000115   \n",
       "4        3.761000e-06    -3.761000e-06   171.595550          0.001130   \n",
       "...               ...              ...          ...               ...   \n",
       "9559     1.846000e-04    -1.846000e-04   132.016100          0.015700   \n",
       "9560     1.160000e-07    -1.160000e-07   131.705093          0.000170   \n",
       "9561     1.780000e-05    -1.780000e-05   133.001270          0.007690   \n",
       "9562     2.434000e-06    -2.434000e-06   132.181750          0.002850   \n",
       "9563     6.356000e-05    -6.356000e-05   135.993300          0.010800   \n",
       "\n",
       "      koi_time0bk_err2  ...  koi_steff_err2  koi_slogg  koi_slogg_err1  \\\n",
       "0            -0.002160  ...           -81.0      4.467           0.064   \n",
       "1            -0.003520  ...           -81.0      4.467           0.064   \n",
       "2            -0.000581  ...          -176.0      4.544           0.044   \n",
       "3            -0.000115  ...          -174.0      4.564           0.053   \n",
       "4            -0.001130  ...          -211.0      4.438           0.070   \n",
       "...                ...  ...             ...        ...             ...   \n",
       "9559         -0.015700  ...          -152.0      4.296           0.231   \n",
       "9560         -0.000170  ...          -166.0      4.529           0.035   \n",
       "9561         -0.007690  ...          -220.0      4.444           0.056   \n",
       "9562         -0.002850  ...          -236.0      4.447           0.056   \n",
       "9563         -0.010800  ...          -225.0      4.385           0.054   \n",
       "\n",
       "      koi_slogg_err2  koi_srad  koi_srad_err1  koi_srad_err2         ra  \\\n",
       "0             -0.096     0.927          0.105         -0.061  291.93423   \n",
       "1             -0.096     0.927          0.105         -0.061  291.93423   \n",
       "2             -0.176     0.868          0.233         -0.078  297.00482   \n",
       "3             -0.168     0.791          0.201         -0.067  285.53461   \n",
       "4             -0.210     1.046          0.334         -0.133  288.75488   \n",
       "...              ...       ...            ...            ...        ...   \n",
       "9559          -0.189     1.088          0.313         -0.228  298.74921   \n",
       "9560          -0.196     0.903          0.237         -0.079  297.18875   \n",
       "9561          -0.224     1.031          0.341         -0.114  286.50937   \n",
       "9562          -0.224     1.041          0.341         -0.114  294.16489   \n",
       "9563          -0.216     1.193          0.410         -0.137  297.00977   \n",
       "\n",
       "            dec  koi_kepmag  \n",
       "0     48.141651      15.347  \n",
       "1     48.141651      15.347  \n",
       "2     48.134129      15.436  \n",
       "3     48.285210      15.597  \n",
       "4     48.226200      15.509  \n",
       "...         ...         ...  \n",
       "9559  46.973351      14.478  \n",
       "9560  47.093819      14.082  \n",
       "9561  47.163219      14.757  \n",
       "9562  47.176281      15.385  \n",
       "9563  47.121021      14.826  \n",
       "\n",
       "[8744 rows x 40 columns]"
      ]
     },
     "execution_count": 51,
     "metadata": {},
     "output_type": "execute_result"
    }
   ],
   "source": [
    "# set x values into a new dataframe (remove Y values from dataframe)\n",
    "x_parms_df = objects_col_df.drop(\"koi_disposition\", axis=1)\n",
    "x_parms_df"
   ]
  },
  {
   "cell_type": "markdown",
   "metadata": {},
   "source": [
    "## Split data into training and test groups"
   ]
  },
  {
   "cell_type": "code",
   "execution_count": 52,
   "metadata": {},
   "outputs": [],
   "source": [
    "# split the data in to training and testing sets\n",
    "\n",
    "from sklearn.model_selection import train_test_split\n",
    "\n",
    "X_train, X_test, y_train, y_test = train_test_split(x_parms_df, y_encoded_df , random_state=2)"
   ]
  },
  {
   "cell_type": "markdown",
   "metadata": {},
   "source": [
    "## Use MinMax model to scale x parameters"
   ]
  },
  {
   "cell_type": "code",
   "execution_count": 53,
   "metadata": {},
   "outputs": [],
   "source": [
    "# Pre-processing  - scale the data using the MinMaxScaler and perform some feature selection\n",
    "\n",
    "from sklearn.preprocessing import MinMaxScaler\n",
    "x_scaler = MinMaxScaler().fit(X_train)\n",
    "# NOT Y value: values are text\n",
    "\n"
   ]
  },
  {
   "cell_type": "code",
   "execution_count": 54,
   "metadata": {},
   "outputs": [],
   "source": [
    "# apply the trained scales (MinMax) to the training and testing data\n",
    "\n",
    "X_train_scaled = x_scaler.transform(X_train)\n",
    "X_test_scaled = x_scaler.transform(X_test)\n",
    "\n"
   ]
  },
  {
   "cell_type": "markdown",
   "metadata": {},
   "source": [
    "## Fit the MinMax model"
   ]
  },
  {
   "cell_type": "code",
   "execution_count": 55,
   "metadata": {},
   "outputs": [
    {
     "data": {
      "text/plain": [
       "LogisticRegression(max_iter=500)"
      ]
     },
     "execution_count": 55,
     "metadata": {},
     "output_type": "execute_result"
    }
   ],
   "source": [
    "# fit the MinMax model\n",
    "model.fit(X_train_scaled, y_train)"
   ]
  },
  {
   "cell_type": "code",
   "execution_count": 56,
   "metadata": {
    "scrolled": true
   },
   "outputs": [
    {
     "data": {
      "text/plain": [
       "array([[-4.00821329e+00, -2.36876937e+00, -3.34387016e+00,\n",
       "        -2.89535397e+00,  1.42293062e+00,  2.25588469e-02,\n",
       "        -2.05099619e-02, -6.37954980e-01,  1.77154793e+00,\n",
       "        -1.76949905e+00,  2.32669459e-01,  7.88853592e-01,\n",
       "         1.50995668e-01, -2.55459227e+00,  3.59375395e+00,\n",
       "        -3.59170506e+00, -2.50221163e-01,  7.50717086e-04,\n",
       "         1.29816795e-03, -1.60653436e-02,  1.11400369e-02,\n",
       "         1.19727012e-02,  1.53214099e+00, -1.70580724e-02,\n",
       "        -3.53112901e-03,  1.76103925e-02, -1.63738443e+00,\n",
       "        -2.16660350e-01, -7.36598257e-01,  1.14948825e+00,\n",
       "        -7.42479987e-01, -1.04802858e+00, -3.36109175e-02,\n",
       "        -1.59049402e-01,  8.38158075e-02,  2.23972522e-01,\n",
       "        -7.51267174e-02,  1.26158428e-01, -2.50804009e-01,\n",
       "        -9.58968330e-02],\n",
       "       [-1.39193176e+00, -2.58108789e+00, -2.10119469e+00,\n",
       "        -2.08298457e+00, -3.00379761e+00, -6.00992220e-01,\n",
       "         5.95037907e-01,  4.44634481e-01, -2.65219663e+00,\n",
       "         2.64624232e+00, -4.69060464e-01, -1.88221147e+00,\n",
       "        -9.46077535e-02,  1.99835144e+00, -4.79559667e+00,\n",
       "         4.78964236e+00, -1.56028001e+00, -1.59742206e-02,\n",
       "         1.00199079e-02, -2.68404218e-02, -6.30258857e-02,\n",
       "         1.04858665e-02, -1.97313734e+00, -3.18871436e-02,\n",
       "        -6.11335561e-02,  2.45789750e-02,  2.62503817e-01,\n",
       "         1.42764032e+00,  7.61467249e-01, -2.78212546e+00,\n",
       "         1.51956315e+00,  1.42892252e+00, -3.73121966e-01,\n",
       "         1.75770893e+00, -3.88712403e-01, -6.47319060e-01,\n",
       "         2.55008236e-01, -4.19444139e-01,  3.78586132e-01,\n",
       "         1.36616873e-01],\n",
       "       [ 5.40014506e+00,  4.94985726e+00,  5.44506485e+00,\n",
       "         4.97833853e+00,  1.58086699e+00,  5.78433373e-01,\n",
       "        -5.74527946e-01,  1.93320499e-01,  8.80648701e-01,\n",
       "        -8.76743274e-01,  2.36391004e-01,  1.09335788e+00,\n",
       "        -5.63879145e-02,  5.56240835e-01,  1.20184272e+00,\n",
       "        -1.19793730e+00,  1.81050117e+00,  1.52235035e-02,\n",
       "        -1.13180758e-02,  4.29057654e-02,  5.18858488e-02,\n",
       "        -2.24585677e-02,  4.40996351e-01,  4.89452160e-02,\n",
       "         6.46646851e-02, -4.21893675e-02,  1.37488061e+00,\n",
       "        -1.21097997e+00, -2.48689920e-02,  1.63263722e+00,\n",
       "        -7.77083164e-01, -3.80893938e-01,  4.06732884e-01,\n",
       "        -1.59865953e+00,  3.04896596e-01,  4.23346538e-01,\n",
       "        -1.79881518e-01,  2.93285711e-01, -1.27782123e-01,\n",
       "        -4.07200399e-02]])"
      ]
     },
     "execution_count": 56,
     "metadata": {},
     "output_type": "execute_result"
    }
   ],
   "source": [
    "model.coef_"
   ]
  },
  {
   "cell_type": "code",
   "execution_count": 57,
   "metadata": {},
   "outputs": [
    {
     "name": "stdout",
     "output_type": "stream",
     "text": [
      "First 10 Predictions:)   ['FALSE POSITIVE' 'CANDIDATE' 'CANDIDATE' 'CONFIRMED' 'FALSE POSITIVE'\n",
      " 'CONFIRMED' 'FALSE POSITIVE' 'FALSE POSITIVE' 'FALSE POSITIVE'\n",
      " 'CONFIRMED']\n",
      "First 10 Actual Labels: 8501    FALSE POSITIVE\n",
      "2152         CANDIDATE\n",
      "3228         CONFIRMED\n",
      "279          CONFIRMED\n",
      "1773    FALSE POSITIVE\n",
      "8481         CONFIRMED\n",
      "8352    FALSE POSITIVE\n",
      "9382    FALSE POSITIVE\n",
      "832     FALSE POSITIVE\n",
      "2704         CONFIRMED\n",
      "Name: koi_disposition, dtype: object\n",
      "First 10 Predictions:)   [[6.83418801e-03 7.83663667e-03 9.85329175e-01]\n",
      " [5.98270234e-01 3.88674968e-01 1.30547982e-02]\n",
      " [5.27669493e-01 4.60504036e-01 1.18264704e-02]\n",
      " [4.02132563e-01 5.90341790e-01 7.52564710e-03]\n",
      " [1.46775617e-03 1.77692637e-02 9.80762980e-01]\n",
      " [3.37412471e-01 6.58474025e-01 4.11350411e-03]\n",
      " [3.63982480e-06 1.34419007e-05 9.99982918e-01]\n",
      " [2.55922064e-03 1.12535234e-02 9.86187256e-01]\n",
      " [1.49719681e-02 2.18745520e-02 9.63153480e-01]\n",
      " [4.35090807e-01 5.57030866e-01 7.87832734e-03]]\n",
      "First 10 Actual Labels: 8501    FALSE POSITIVE\n",
      "2152         CANDIDATE\n",
      "3228         CONFIRMED\n",
      "279          CONFIRMED\n",
      "1773    FALSE POSITIVE\n",
      "8481         CONFIRMED\n",
      "8352    FALSE POSITIVE\n",
      "9382    FALSE POSITIVE\n",
      "832     FALSE POSITIVE\n",
      "2704         CONFIRMED\n",
      "Name: koi_disposition, dtype: object\n"
     ]
    }
   ],
   "source": [
    "# look at outputs - referencing 20.1 activity Stu_resp_disease\n",
    "predictions = model.predict(X_test_scaled)  # value of each\n",
    "print(f\"First 10 Predictions:)   {predictions[:10]}\")\n",
    "print(f\"First 10 Actual Labels: {y_test[:10]}\")\n",
    "\n",
    "predictions = model.predict_proba(X_test_scaled)  # probablity of each\n",
    "print(f\"First 10 Predictions:)   {predictions[:10]}\")\n",
    "print(f\"First 10 Actual Labels: {y_test[:10]}\")\n",
    "\n",
    "# 1 difference in first 10: 3rd example prediction candidate vs. confirmed, probabilities show close decision, .528 vs. .46"
   ]
  },
  {
   "cell_type": "code",
   "execution_count": 58,
   "metadata": {},
   "outputs": [
    {
     "name": "stdout",
     "output_type": "stream",
     "text": [
      "Training Data Score: 0.8543763342482464\n",
      "Testing Data Score: 0.8600182982616651\n"
     ]
    }
   ],
   "source": [
    "# Traing the model\n",
    "print(f\"Training Data Score: {model.score(X_train_scaled, y_train)}\")\n",
    "print(f\"Testing Data Score: {model.score(X_test_scaled, y_test)}\")"
   ]
  },
  {
   "cell_type": "markdown",
   "metadata": {},
   "source": [
    "# Reference Model is logistic regression model:  \n",
    "\n",
    "## Scores: \n",
    "### Training Data Score: 0.85\n",
    "### Testing Data Score: 0.86\n"
   ]
  },
  {
   "cell_type": "markdown",
   "metadata": {},
   "source": [
    "## Write out data files with MinMax scaled data\n",
    "\n"
   ]
  },
  {
   "cell_type": "code",
   "execution_count": 74,
   "metadata": {},
   "outputs": [],
   "source": [
    "# names of dataframes with parameters and y values: x_parms_df, y_encoded_df\n",
    "x_parms_df.to_csv(\"x_parms.csv\", index=False, header=True)\n",
    "y_encoded_df.to_csv(\"y_value.csv\", index=False, header=True)"
   ]
  },
  {
   "cell_type": "markdown",
   "metadata": {},
   "source": [
    "# Use GridSearch model to determine Optimum parameters "
   ]
  },
  {
   "cell_type": "code",
   "execution_count": 75,
   "metadata": {},
   "outputs": [
    {
     "data": {
      "text/plain": [
       "SVC(kernel='linear')"
      ]
     },
     "execution_count": 75,
     "metadata": {},
     "output_type": "execute_result"
    }
   ],
   "source": [
    "# Create the SVC Model\n",
    "from sklearn.svm import SVC \n",
    "model1 = SVC(kernel='linear')\n",
    "model1"
   ]
  },
  {
   "cell_type": "code",
   "execution_count": 66,
   "metadata": {},
   "outputs": [],
   "source": [
    "# Create the GridSearch estimator along with a parameter object containing the values to adjust\n",
    "from sklearn.model_selection import GridSearchCV\n",
    "param_grid = {'C': [1, 5, 10],\n",
    "              'gamma': [0.0001, 0.0005, 0.001, 0.005]\n",
    "             }\n",
    "grid = GridSearchCV(model1, param_grid, verbose=3)\n"
   ]
  },
  {
   "cell_type": "code",
   "execution_count": 67,
   "metadata": {},
   "outputs": [
    {
     "name": "stdout",
     "output_type": "stream",
     "text": [
      "Fitting 5 folds for each of 12 candidates, totalling 60 fits\n",
      "[CV 1/5] END ..............................C=1, gamma=0.0001; total time=   0.3s\n",
      "[CV 2/5] END ..............................C=1, gamma=0.0001; total time=   0.3s\n",
      "[CV 3/5] END ..............................C=1, gamma=0.0001; total time=   0.3s\n",
      "[CV 4/5] END ..............................C=1, gamma=0.0001; total time=   0.3s\n",
      "[CV 5/5] END ..............................C=1, gamma=0.0001; total time=   0.3s\n",
      "[CV 1/5] END ..............................C=1, gamma=0.0005; total time=   0.3s\n",
      "[CV 2/5] END ..............................C=1, gamma=0.0005; total time=   0.3s\n",
      "[CV 3/5] END ..............................C=1, gamma=0.0005; total time=   0.3s\n",
      "[CV 4/5] END ..............................C=1, gamma=0.0005; total time=   0.3s\n",
      "[CV 5/5] END ..............................C=1, gamma=0.0005; total time=   0.3s\n",
      "[CV 1/5] END ...............................C=1, gamma=0.001; total time=   0.3s\n",
      "[CV 2/5] END ...............................C=1, gamma=0.001; total time=   0.3s\n",
      "[CV 3/5] END ...............................C=1, gamma=0.001; total time=   0.3s\n",
      "[CV 4/5] END ...............................C=1, gamma=0.001; total time=   0.3s\n",
      "[CV 5/5] END ...............................C=1, gamma=0.001; total time=   0.3s\n",
      "[CV 1/5] END ...............................C=1, gamma=0.005; total time=   0.3s\n",
      "[CV 2/5] END ...............................C=1, gamma=0.005; total time=   0.3s\n",
      "[CV 3/5] END ...............................C=1, gamma=0.005; total time=   0.3s\n",
      "[CV 4/5] END ...............................C=1, gamma=0.005; total time=   0.3s\n",
      "[CV 5/5] END ...............................C=1, gamma=0.005; total time=   0.3s\n",
      "[CV 1/5] END ..............................C=5, gamma=0.0001; total time=   0.3s\n",
      "[CV 2/5] END ..............................C=5, gamma=0.0001; total time=   0.3s\n",
      "[CV 3/5] END ..............................C=5, gamma=0.0001; total time=   0.3s\n",
      "[CV 4/5] END ..............................C=5, gamma=0.0001; total time=   0.3s\n",
      "[CV 5/5] END ..............................C=5, gamma=0.0001; total time=   0.3s\n",
      "[CV 1/5] END ..............................C=5, gamma=0.0005; total time=   0.3s\n",
      "[CV 2/5] END ..............................C=5, gamma=0.0005; total time=   0.3s\n",
      "[CV 3/5] END ..............................C=5, gamma=0.0005; total time=   0.4s\n",
      "[CV 4/5] END ..............................C=5, gamma=0.0005; total time=   0.5s\n",
      "[CV 5/5] END ..............................C=5, gamma=0.0005; total time=   0.3s\n",
      "[CV 1/5] END ...............................C=5, gamma=0.001; total time=   0.4s\n",
      "[CV 2/5] END ...............................C=5, gamma=0.001; total time=   0.3s\n",
      "[CV 3/5] END ...............................C=5, gamma=0.001; total time=   0.4s\n",
      "[CV 4/5] END ...............................C=5, gamma=0.001; total time=   0.4s\n",
      "[CV 5/5] END ...............................C=5, gamma=0.001; total time=   0.3s\n",
      "[CV 1/5] END ...............................C=5, gamma=0.005; total time=   0.3s\n",
      "[CV 2/5] END ...............................C=5, gamma=0.005; total time=   0.3s\n",
      "[CV 3/5] END ...............................C=5, gamma=0.005; total time=   0.4s\n",
      "[CV 4/5] END ...............................C=5, gamma=0.005; total time=   0.4s\n",
      "[CV 5/5] END ...............................C=5, gamma=0.005; total time=   0.3s\n",
      "[CV 1/5] END .............................C=10, gamma=0.0001; total time=   0.4s\n",
      "[CV 2/5] END .............................C=10, gamma=0.0001; total time=   0.5s\n",
      "[CV 3/5] END .............................C=10, gamma=0.0001; total time=   0.5s\n",
      "[CV 4/5] END .............................C=10, gamma=0.0001; total time=   0.4s\n",
      "[CV 5/5] END .............................C=10, gamma=0.0001; total time=   0.4s\n",
      "[CV 1/5] END .............................C=10, gamma=0.0005; total time=   0.4s\n",
      "[CV 2/5] END .............................C=10, gamma=0.0005; total time=   0.4s\n",
      "[CV 3/5] END .............................C=10, gamma=0.0005; total time=   0.4s\n",
      "[CV 4/5] END .............................C=10, gamma=0.0005; total time=   0.4s\n",
      "[CV 5/5] END .............................C=10, gamma=0.0005; total time=   0.3s\n",
      "[CV 1/5] END ..............................C=10, gamma=0.001; total time=   0.4s\n",
      "[CV 2/5] END ..............................C=10, gamma=0.001; total time=   0.5s\n",
      "[CV 3/5] END ..............................C=10, gamma=0.001; total time=   0.5s\n",
      "[CV 4/5] END ..............................C=10, gamma=0.001; total time=   0.5s\n",
      "[CV 5/5] END ..............................C=10, gamma=0.001; total time=   0.4s\n",
      "[CV 1/5] END ..............................C=10, gamma=0.005; total time=   0.4s\n",
      "[CV 2/5] END ..............................C=10, gamma=0.005; total time=   0.4s\n",
      "[CV 3/5] END ..............................C=10, gamma=0.005; total time=   0.4s\n",
      "[CV 4/5] END ..............................C=10, gamma=0.005; total time=   0.3s\n",
      "[CV 5/5] END ..............................C=10, gamma=0.005; total time=   0.3s\n"
     ]
    },
    {
     "data": {
      "text/plain": [
       "GridSearchCV(estimator=SVC(kernel='linear'),\n",
       "             param_grid={'C': [1, 5, 10],\n",
       "                         'gamma': [0.0001, 0.0005, 0.001, 0.005]},\n",
       "             verbose=3)"
      ]
     },
     "execution_count": 67,
     "metadata": {},
     "output_type": "execute_result"
    }
   ],
   "source": [
    "# Fit the model using the grid search estimator. \n",
    "# This will take the SVC model and try each combination of parameters\n",
    "grid.fit(X_train_scaled, y_train)"
   ]
  },
  {
   "cell_type": "code",
   "execution_count": 68,
   "metadata": {},
   "outputs": [
    {
     "name": "stdout",
     "output_type": "stream",
     "text": [
      "{'C': 10, 'gamma': 0.0001}\n"
     ]
    }
   ],
   "source": [
    "# List the best parameters for this dataset\n",
    "print(grid.best_params_)"
   ]
  },
  {
   "cell_type": "code",
   "execution_count": 69,
   "metadata": {},
   "outputs": [
    {
     "name": "stdout",
     "output_type": "stream",
     "text": [
      "0.8694724284199363\n"
     ]
    }
   ],
   "source": [
    "# List the best score\n",
    "print(grid.best_score_)"
   ]
  },
  {
   "cell_type": "code",
   "execution_count": 70,
   "metadata": {},
   "outputs": [],
   "source": [
    "# Make predictions with the hypertuned model\n",
    "predictions = grid.predict(X_test_scaled)"
   ]
  },
  {
   "cell_type": "code",
   "execution_count": 71,
   "metadata": {},
   "outputs": [
    {
     "name": "stdout",
     "output_type": "stream",
     "text": [
      "                precision    recall  f1-score   support\n",
      "\n",
      "     CANDIDATE       0.87      0.65      0.74       524\n",
      "     CONFIRMED       0.75      0.89      0.81       580\n",
      "FALSE POSITIVE       0.98      1.00      0.99      1082\n",
      "\n",
      "      accuracy                           0.89      2186\n",
      "     macro avg       0.86      0.85      0.85      2186\n",
      "  weighted avg       0.89      0.89      0.88      2186\n",
      "\n"
     ]
    }
   ],
   "source": [
    "# Calculate classification report\n",
    "from sklearn.metrics import classification_report\n",
    "print(classification_report(y_test, predictions,\n",
    "                            target_names=[\"CANDIDATE\", \"CONFIRMED\", \"FALSE POSITIVE\"]))"
   ]
  },
  {
   "cell_type": "code",
   "execution_count": null,
   "metadata": {},
   "outputs": [],
   "source": [
    "# the model is better at identifying positive cases (percision = 0.87) \n",
    "# but risks higher false negative classifications (recall = 0.65). \n",
    "# Overall F1 accuracy is in the "
   ]
  },
  {
   "cell_type": "markdown",
   "metadata": {},
   "source": [
    "# Save the Model"
   ]
  },
  {
   "cell_type": "code",
   "execution_count": 73,
   "metadata": {},
   "outputs": [
    {
     "data": {
      "text/plain": [
       "['lowellv.sav']"
      ]
     },
     "execution_count": 73,
     "metadata": {},
     "output_type": "execute_result"
    }
   ],
   "source": [
    "# save your model by updating \"your_name\" with your name\n",
    "# and \"your_model\" with your model variable\n",
    "# be sure to turn this in to BCS\n",
    "# if joblib fails to import, try running the command to install in terminal/git-bash\n",
    "import joblib\n",
    "filename = 'lowellv.sav'\n",
    "joblib.dump(model1, filename)"
   ]
  },
  {
   "cell_type": "code",
   "execution_count": null,
   "metadata": {},
   "outputs": [],
   "source": []
  }
 ],
 "metadata": {
  "kernelspec": {
   "display_name": "Python [conda env:pythondata] *",
   "language": "python",
   "name": "conda-env-pythondata-py"
  },
  "language_info": {
   "codemirror_mode": {
    "name": "ipython",
    "version": 3
   },
   "file_extension": ".py",
   "mimetype": "text/x-python",
   "name": "python",
   "nbconvert_exporter": "python",
   "pygments_lexer": "ipython3",
   "version": "3.6.10"
  }
 },
 "nbformat": 4,
 "nbformat_minor": 4
}
